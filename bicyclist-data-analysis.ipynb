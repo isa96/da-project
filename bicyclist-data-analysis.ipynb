{
 "cells": [
  {
   "cell_type": "markdown",
   "id": "4ea84c8f",
   "metadata": {
    "papermill": {
     "duration": 0.013313,
     "end_time": "2023-05-23T06:51:19.658398",
     "exception": false,
     "start_time": "2023-05-23T06:51:19.645085",
     "status": "completed"
    },
    "tags": []
   },
   "source": [
    "# **Bicyclist Data Analysis Using Python**"
   ]
  },
  {
   "cell_type": "markdown",
   "id": "34b54277",
   "metadata": {
    "papermill": {
     "duration": 0.0111,
     "end_time": "2023-05-23T06:51:19.681266",
     "exception": false,
     "start_time": "2023-05-23T06:51:19.670166",
     "status": "completed"
    },
    "tags": []
   },
   "source": [
    "On this occasion, I will be analyzing the data from a fictional bike-sharing company called Cyclistic. \n",
    "I pretend to be a data analyst of this company, my goal is to provide insights about the behavior of Cyclistic's users and make business recommendations. To begin, let's import the necessary libraries for this analysis, **pandas** and **matplotlib**. Now, we're interested in determining the duration of the data available.\n",
    "\n"
   ]
  },
  {
   "cell_type": "markdown",
   "id": "41c87478",
   "metadata": {
    "papermill": {
     "duration": 0.012485,
     "end_time": "2023-05-23T06:51:19.704501",
     "exception": false,
     "start_time": "2023-05-23T06:51:19.692016",
     "status": "completed"
    },
    "tags": []
   },
   "source": [
    "# **Import the Dataset**"
   ]
  },
  {
   "cell_type": "code",
   "execution_count": 1,
   "id": "f9c62031",
   "metadata": {
    "execution": {
     "iopub.execute_input": "2023-05-23T06:51:19.728937Z",
     "iopub.status.busy": "2023-05-23T06:51:19.728185Z",
     "iopub.status.idle": "2023-05-23T06:51:25.671631Z",
     "shell.execute_reply": "2023-05-23T06:51:25.670705Z"
    },
    "papermill": {
     "duration": 5.957826,
     "end_time": "2023-05-23T06:51:25.673826",
     "exception": false,
     "start_time": "2023-05-23T06:51:19.716000",
     "status": "completed"
    },
    "tags": []
   },
   "outputs": [
    {
     "data": {
      "text/html": [
       "<div>\n",
       "<style scoped>\n",
       "    .dataframe tbody tr th:only-of-type {\n",
       "        vertical-align: middle;\n",
       "    }\n",
       "\n",
       "    .dataframe tbody tr th {\n",
       "        vertical-align: top;\n",
       "    }\n",
       "\n",
       "    .dataframe thead th {\n",
       "        text-align: right;\n",
       "    }\n",
       "</style>\n",
       "<table border=\"1\" class=\"dataframe\">\n",
       "  <thead>\n",
       "    <tr style=\"text-align: right;\">\n",
       "      <th></th>\n",
       "      <th>ride_id</th>\n",
       "      <th>rideable_type</th>\n",
       "      <th>started_at</th>\n",
       "      <th>ended_at</th>\n",
       "      <th>start_station_name</th>\n",
       "      <th>start_station_id</th>\n",
       "      <th>end_station_name</th>\n",
       "      <th>end_station_id</th>\n",
       "      <th>start_lat</th>\n",
       "      <th>start_lng</th>\n",
       "      <th>end_lat</th>\n",
       "      <th>end_lng</th>\n",
       "      <th>member_casual</th>\n",
       "    </tr>\n",
       "  </thead>\n",
       "  <tbody>\n",
       "    <tr>\n",
       "      <th>0</th>\n",
       "      <td>F96D5A74A3E41399</td>\n",
       "      <td>electric_bike</td>\n",
       "      <td>2023-01-21 20:05:42</td>\n",
       "      <td>2023-01-21 20:16:33</td>\n",
       "      <td>Lincoln Ave &amp; Fullerton Ave</td>\n",
       "      <td>TA1309000058</td>\n",
       "      <td>Hampden Ct &amp; Diversey Ave</td>\n",
       "      <td>202480.0</td>\n",
       "      <td>41.924074</td>\n",
       "      <td>-87.646278</td>\n",
       "      <td>41.930000</td>\n",
       "      <td>-87.640000</td>\n",
       "      <td>member</td>\n",
       "    </tr>\n",
       "    <tr>\n",
       "      <th>1</th>\n",
       "      <td>13CB7EB698CEDB88</td>\n",
       "      <td>classic_bike</td>\n",
       "      <td>2023-01-10 15:37:36</td>\n",
       "      <td>2023-01-10 15:46:05</td>\n",
       "      <td>Kimbark Ave &amp; 53rd St</td>\n",
       "      <td>TA1309000037</td>\n",
       "      <td>Greenwood Ave &amp; 47th St</td>\n",
       "      <td>TA1308000002</td>\n",
       "      <td>41.799568</td>\n",
       "      <td>-87.594747</td>\n",
       "      <td>41.809835</td>\n",
       "      <td>-87.599383</td>\n",
       "      <td>member</td>\n",
       "    </tr>\n",
       "    <tr>\n",
       "      <th>2</th>\n",
       "      <td>BD88A2E670661CE5</td>\n",
       "      <td>electric_bike</td>\n",
       "      <td>2023-01-02 07:51:57</td>\n",
       "      <td>2023-01-02 08:05:11</td>\n",
       "      <td>Western Ave &amp; Lunt Ave</td>\n",
       "      <td>RP-005</td>\n",
       "      <td>Valli Produce - Evanston Plaza</td>\n",
       "      <td>599</td>\n",
       "      <td>42.008571</td>\n",
       "      <td>-87.690483</td>\n",
       "      <td>42.039742</td>\n",
       "      <td>-87.699413</td>\n",
       "      <td>casual</td>\n",
       "    </tr>\n",
       "    <tr>\n",
       "      <th>3</th>\n",
       "      <td>C90792D034FED968</td>\n",
       "      <td>classic_bike</td>\n",
       "      <td>2023-01-22 10:52:58</td>\n",
       "      <td>2023-01-22 11:01:44</td>\n",
       "      <td>Kimbark Ave &amp; 53rd St</td>\n",
       "      <td>TA1309000037</td>\n",
       "      <td>Greenwood Ave &amp; 47th St</td>\n",
       "      <td>TA1308000002</td>\n",
       "      <td>41.799568</td>\n",
       "      <td>-87.594747</td>\n",
       "      <td>41.809835</td>\n",
       "      <td>-87.599383</td>\n",
       "      <td>member</td>\n",
       "    </tr>\n",
       "    <tr>\n",
       "      <th>4</th>\n",
       "      <td>3397017529188E8A</td>\n",
       "      <td>classic_bike</td>\n",
       "      <td>2023-01-12 13:58:01</td>\n",
       "      <td>2023-01-12 14:13:20</td>\n",
       "      <td>Kimbark Ave &amp; 53rd St</td>\n",
       "      <td>TA1309000037</td>\n",
       "      <td>Greenwood Ave &amp; 47th St</td>\n",
       "      <td>TA1308000002</td>\n",
       "      <td>41.799568</td>\n",
       "      <td>-87.594747</td>\n",
       "      <td>41.809835</td>\n",
       "      <td>-87.599383</td>\n",
       "      <td>member</td>\n",
       "    </tr>\n",
       "  </tbody>\n",
       "</table>\n",
       "</div>"
      ],
      "text/plain": [
       "            ride_id  rideable_type           started_at             ended_at  \\\n",
       "0  F96D5A74A3E41399  electric_bike  2023-01-21 20:05:42  2023-01-21 20:16:33   \n",
       "1  13CB7EB698CEDB88   classic_bike  2023-01-10 15:37:36  2023-01-10 15:46:05   \n",
       "2  BD88A2E670661CE5  electric_bike  2023-01-02 07:51:57  2023-01-02 08:05:11   \n",
       "3  C90792D034FED968   classic_bike  2023-01-22 10:52:58  2023-01-22 11:01:44   \n",
       "4  3397017529188E8A   classic_bike  2023-01-12 13:58:01  2023-01-12 14:13:20   \n",
       "\n",
       "            start_station_name start_station_id  \\\n",
       "0  Lincoln Ave & Fullerton Ave     TA1309000058   \n",
       "1        Kimbark Ave & 53rd St     TA1309000037   \n",
       "2       Western Ave & Lunt Ave           RP-005   \n",
       "3        Kimbark Ave & 53rd St     TA1309000037   \n",
       "4        Kimbark Ave & 53rd St     TA1309000037   \n",
       "\n",
       "                 end_station_name end_station_id  start_lat  start_lng  \\\n",
       "0       Hampden Ct & Diversey Ave       202480.0  41.924074 -87.646278   \n",
       "1         Greenwood Ave & 47th St   TA1308000002  41.799568 -87.594747   \n",
       "2  Valli Produce - Evanston Plaza            599  42.008571 -87.690483   \n",
       "3         Greenwood Ave & 47th St   TA1308000002  41.799568 -87.594747   \n",
       "4         Greenwood Ave & 47th St   TA1308000002  41.799568 -87.594747   \n",
       "\n",
       "     end_lat    end_lng member_casual  \n",
       "0  41.930000 -87.640000        member  \n",
       "1  41.809835 -87.599383        member  \n",
       "2  42.039742 -87.699413        casual  \n",
       "3  41.809835 -87.599383        member  \n",
       "4  41.809835 -87.599383        member  "
      ]
     },
     "execution_count": 1,
     "metadata": {},
     "output_type": "execute_result"
    }
   ],
   "source": [
    "import pandas as pd\n",
    "import numpy as np\n",
    "import matplotlib.pyplot as plt\n",
    "# import the datas as dataframe in python and name it as df_number\n",
    "df_1= pd.read_csv('/kaggle/input/divvy-tripdata/202301-divvy-tripdata.csv')\n",
    "df_2= pd.read_csv('/kaggle/input/divvy-tripdata/202302-divvy-tripdata.csv')\n",
    "df_3= pd.read_csv('/kaggle/input/divvy-tripdata/202303-divvy-tripdata.csv')\n",
    "df_4= pd.read_csv('/kaggle/input/divvy-tripdata/202304-divvy-tripdata.csv')\n",
    "# merge those dataframe into one to make easier to be analyzed\n",
    "df=pd.concat([df_1,df_2,df_3,df_4],ignore_index=True)\n",
    "# show he first 10 row get the big picture of the data\n",
    "df.head(5)\n"
   ]
  },
  {
   "cell_type": "markdown",
   "id": "4f2d3d3b",
   "metadata": {
    "papermill": {
     "duration": 0.010532,
     "end_time": "2023-05-23T06:51:25.695196",
     "exception": false,
     "start_time": "2023-05-23T06:51:25.684664",
     "status": "completed"
    },
    "tags": []
   },
   "source": [
    "# **Data Cleaning Process**"
   ]
  },
  {
   "cell_type": "code",
   "execution_count": 2,
   "id": "f8ee397c",
   "metadata": {
    "execution": {
     "iopub.execute_input": "2023-05-23T06:51:25.718557Z",
     "iopub.status.busy": "2023-05-23T06:51:25.718080Z",
     "iopub.status.idle": "2023-05-23T06:51:25.725080Z",
     "shell.execute_reply": "2023-05-23T06:51:25.724133Z"
    },
    "papermill": {
     "duration": 0.021006,
     "end_time": "2023-05-23T06:51:25.727175",
     "exception": false,
     "start_time": "2023-05-23T06:51:25.706169",
     "status": "completed"
    },
    "tags": []
   },
   "outputs": [
    {
     "data": {
      "text/plain": [
       "(1066014, 13)"
      ]
     },
     "execution_count": 2,
     "metadata": {},
     "output_type": "execute_result"
    }
   ],
   "source": [
    "# Check the dimension of the data\n",
    "df.shape"
   ]
  },
  {
   "cell_type": "markdown",
   "id": "cf0a7a48",
   "metadata": {
    "papermill": {
     "duration": 0.010242,
     "end_time": "2023-05-23T06:51:25.748137",
     "exception": false,
     "start_time": "2023-05-23T06:51:25.737895",
     "status": "completed"
    },
    "tags": []
   },
   "source": [
    "The data contains **1066014 rows** and **13 columns**, wow that's huge, so let's see what are the columns of the data."
   ]
  },
  {
   "cell_type": "code",
   "execution_count": 3,
   "id": "fd19e37d",
   "metadata": {
    "execution": {
     "iopub.execute_input": "2023-05-23T06:51:25.772132Z",
     "iopub.status.busy": "2023-05-23T06:51:25.771761Z",
     "iopub.status.idle": "2023-05-23T06:51:25.778264Z",
     "shell.execute_reply": "2023-05-23T06:51:25.777296Z"
    },
    "papermill": {
     "duration": 0.020135,
     "end_time": "2023-05-23T06:51:25.780196",
     "exception": false,
     "start_time": "2023-05-23T06:51:25.760061",
     "status": "completed"
    },
    "tags": []
   },
   "outputs": [
    {
     "data": {
      "text/plain": [
       "Index(['ride_id', 'rideable_type', 'started_at', 'ended_at',\n",
       "       'start_station_name', 'start_station_id', 'end_station_name',\n",
       "       'end_station_id', 'start_lat', 'start_lng', 'end_lat', 'end_lng',\n",
       "       'member_casual'],\n",
       "      dtype='object')"
      ]
     },
     "execution_count": 3,
     "metadata": {},
     "output_type": "execute_result"
    }
   ],
   "source": [
    "df.columns"
   ]
  },
  {
   "cell_type": "markdown",
   "id": "e3c316ef",
   "metadata": {
    "papermill": {
     "duration": 0.010506,
     "end_time": "2023-05-23T06:51:25.801712",
     "exception": false,
     "start_time": "2023-05-23T06:51:25.791206",
     "status": "completed"
    },
    "tags": []
   },
   "source": [
    "We want to understand how users behave and gain insights from their usage patterns. To achieve this, we only need to focus on a few specific columns: **ride_id, rideable_type, started_at, ended_at, and member_casual**. Additionally, we will add a new column called **\"duration\"** to represent the length of time the bike was used. By narrowing down our analysis to these columns, we can gather valuable information about the users, the type of bike they rode, when they started and ended their rides, and whether they were members or casual users."
   ]
  },
  {
   "cell_type": "code",
   "execution_count": 4,
   "id": "b4f0c0f7",
   "metadata": {
    "execution": {
     "iopub.execute_input": "2023-05-23T06:51:25.825406Z",
     "iopub.status.busy": "2023-05-23T06:51:25.825020Z",
     "iopub.status.idle": "2023-05-23T06:51:26.100319Z",
     "shell.execute_reply": "2023-05-23T06:51:26.099311Z"
    },
    "papermill": {
     "duration": 0.28937,
     "end_time": "2023-05-23T06:51:26.102123",
     "exception": false,
     "start_time": "2023-05-23T06:51:25.812753",
     "status": "completed"
    },
    "tags": []
   },
   "outputs": [
    {
     "data": {
      "text/html": [
       "<div>\n",
       "<style scoped>\n",
       "    .dataframe tbody tr th:only-of-type {\n",
       "        vertical-align: middle;\n",
       "    }\n",
       "\n",
       "    .dataframe tbody tr th {\n",
       "        vertical-align: top;\n",
       "    }\n",
       "\n",
       "    .dataframe thead th {\n",
       "        text-align: right;\n",
       "    }\n",
       "</style>\n",
       "<table border=\"1\" class=\"dataframe\">\n",
       "  <thead>\n",
       "    <tr style=\"text-align: right;\">\n",
       "      <th></th>\n",
       "      <th>ride_id</th>\n",
       "      <th>rideable_type</th>\n",
       "      <th>started_at</th>\n",
       "      <th>ended_at</th>\n",
       "      <th>member_casual</th>\n",
       "    </tr>\n",
       "  </thead>\n",
       "  <tbody>\n",
       "    <tr>\n",
       "      <th>0</th>\n",
       "      <td>F96D5A74A3E41399</td>\n",
       "      <td>electric_bike</td>\n",
       "      <td>2023-01-21 20:05:42</td>\n",
       "      <td>2023-01-21 20:16:33</td>\n",
       "      <td>member</td>\n",
       "    </tr>\n",
       "    <tr>\n",
       "      <th>1</th>\n",
       "      <td>13CB7EB698CEDB88</td>\n",
       "      <td>classic_bike</td>\n",
       "      <td>2023-01-10 15:37:36</td>\n",
       "      <td>2023-01-10 15:46:05</td>\n",
       "      <td>member</td>\n",
       "    </tr>\n",
       "    <tr>\n",
       "      <th>2</th>\n",
       "      <td>BD88A2E670661CE5</td>\n",
       "      <td>electric_bike</td>\n",
       "      <td>2023-01-02 07:51:57</td>\n",
       "      <td>2023-01-02 08:05:11</td>\n",
       "      <td>casual</td>\n",
       "    </tr>\n",
       "    <tr>\n",
       "      <th>3</th>\n",
       "      <td>C90792D034FED968</td>\n",
       "      <td>classic_bike</td>\n",
       "      <td>2023-01-22 10:52:58</td>\n",
       "      <td>2023-01-22 11:01:44</td>\n",
       "      <td>member</td>\n",
       "    </tr>\n",
       "    <tr>\n",
       "      <th>4</th>\n",
       "      <td>3397017529188E8A</td>\n",
       "      <td>classic_bike</td>\n",
       "      <td>2023-01-12 13:58:01</td>\n",
       "      <td>2023-01-12 14:13:20</td>\n",
       "      <td>member</td>\n",
       "    </tr>\n",
       "  </tbody>\n",
       "</table>\n",
       "</div>"
      ],
      "text/plain": [
       "            ride_id  rideable_type           started_at             ended_at  \\\n",
       "0  F96D5A74A3E41399  electric_bike  2023-01-21 20:05:42  2023-01-21 20:16:33   \n",
       "1  13CB7EB698CEDB88   classic_bike  2023-01-10 15:37:36  2023-01-10 15:46:05   \n",
       "2  BD88A2E670661CE5  electric_bike  2023-01-02 07:51:57  2023-01-02 08:05:11   \n",
       "3  C90792D034FED968   classic_bike  2023-01-22 10:52:58  2023-01-22 11:01:44   \n",
       "4  3397017529188E8A   classic_bike  2023-01-12 13:58:01  2023-01-12 14:13:20   \n",
       "\n",
       "  member_casual  \n",
       "0        member  \n",
       "1        member  \n",
       "2        casual  \n",
       "3        member  \n",
       "4        member  "
      ]
     },
     "execution_count": 4,
     "metadata": {},
     "output_type": "execute_result"
    }
   ],
   "source": [
    "# define new dataframe\n",
    "df_2=df[['ride_id','rideable_type','started_at','ended_at','member_casual']]\n",
    "df_2.head()"
   ]
  },
  {
   "cell_type": "code",
   "execution_count": 5,
   "id": "92d81627",
   "metadata": {
    "execution": {
     "iopub.execute_input": "2023-05-23T06:51:26.125699Z",
     "iopub.status.busy": "2023-05-23T06:51:26.125337Z",
     "iopub.status.idle": "2023-05-23T06:51:26.530583Z",
     "shell.execute_reply": "2023-05-23T06:51:26.529262Z"
    },
    "papermill": {
     "duration": 0.420387,
     "end_time": "2023-05-23T06:51:26.533562",
     "exception": false,
     "start_time": "2023-05-23T06:51:26.113175",
     "status": "completed"
    },
    "tags": []
   },
   "outputs": [
    {
     "name": "stderr",
     "output_type": "stream",
     "text": [
      "/tmp/ipykernel_21/3579850392.py:2: SettingWithCopyWarning: \n",
      "A value is trying to be set on a copy of a slice from a DataFrame.\n",
      "Try using .loc[row_indexer,col_indexer] = value instead\n",
      "\n",
      "See the caveats in the documentation: https://pandas.pydata.org/pandas-docs/stable/user_guide/indexing.html#returning-a-view-versus-a-copy\n",
      "  df_2['started_at'] = pd.to_datetime(df_2['started_at'])\n",
      "/tmp/ipykernel_21/3579850392.py:3: SettingWithCopyWarning: \n",
      "A value is trying to be set on a copy of a slice from a DataFrame.\n",
      "Try using .loc[row_indexer,col_indexer] = value instead\n",
      "\n",
      "See the caveats in the documentation: https://pandas.pydata.org/pandas-docs/stable/user_guide/indexing.html#returning-a-view-versus-a-copy\n",
      "  df_2.loc[:, 'ended_at'] = pd.to_datetime(df_2['ended_at'])\n",
      "/tmp/ipykernel_21/3579850392.py:3: DeprecationWarning: In a future version, `df.iloc[:, i] = newvals` will attempt to set the values inplace instead of always setting a new array. To retain the old behavior, use either `df[df.columns[i]] = newvals` or, if columns are non-unique, `df.isetitem(i, newvals)`\n",
      "  df_2.loc[:, 'ended_at'] = pd.to_datetime(df_2['ended_at'])\n",
      "/tmp/ipykernel_21/3579850392.py:5: SettingWithCopyWarning: \n",
      "A value is trying to be set on a copy of a slice from a DataFrame.\n",
      "Try using .loc[row_indexer,col_indexer] = value instead\n",
      "\n",
      "See the caveats in the documentation: https://pandas.pydata.org/pandas-docs/stable/user_guide/indexing.html#returning-a-view-versus-a-copy\n",
      "  df_2['duration'] = (df_2['ended_at'] - df_2['started_at'])\n",
      "/tmp/ipykernel_21/3579850392.py:7: SettingWithCopyWarning: \n",
      "A value is trying to be set on a copy of a slice from a DataFrame.\n",
      "Try using .loc[row_indexer,col_indexer] = value instead\n",
      "\n",
      "See the caveats in the documentation: https://pandas.pydata.org/pandas-docs/stable/user_guide/indexing.html#returning-a-view-versus-a-copy\n",
      "  df_2['duration (min)'] = df_2['duration'].dt.total_seconds() / 60\n"
     ]
    },
    {
     "data": {
      "text/html": [
       "<div>\n",
       "<style scoped>\n",
       "    .dataframe tbody tr th:only-of-type {\n",
       "        vertical-align: middle;\n",
       "    }\n",
       "\n",
       "    .dataframe tbody tr th {\n",
       "        vertical-align: top;\n",
       "    }\n",
       "\n",
       "    .dataframe thead th {\n",
       "        text-align: right;\n",
       "    }\n",
       "</style>\n",
       "<table border=\"1\" class=\"dataframe\">\n",
       "  <thead>\n",
       "    <tr style=\"text-align: right;\">\n",
       "      <th></th>\n",
       "      <th>ride_id</th>\n",
       "      <th>rideable_type</th>\n",
       "      <th>started_at</th>\n",
       "      <th>ended_at</th>\n",
       "      <th>member_casual</th>\n",
       "      <th>duration</th>\n",
       "      <th>duration (min)</th>\n",
       "    </tr>\n",
       "  </thead>\n",
       "  <tbody>\n",
       "    <tr>\n",
       "      <th>0</th>\n",
       "      <td>F96D5A74A3E41399</td>\n",
       "      <td>electric_bike</td>\n",
       "      <td>2023-01-21 20:05:42</td>\n",
       "      <td>2023-01-21 20:16:33</td>\n",
       "      <td>member</td>\n",
       "      <td>0 days 00:10:51</td>\n",
       "      <td>10.850000</td>\n",
       "    </tr>\n",
       "    <tr>\n",
       "      <th>1</th>\n",
       "      <td>13CB7EB698CEDB88</td>\n",
       "      <td>classic_bike</td>\n",
       "      <td>2023-01-10 15:37:36</td>\n",
       "      <td>2023-01-10 15:46:05</td>\n",
       "      <td>member</td>\n",
       "      <td>0 days 00:08:29</td>\n",
       "      <td>8.483333</td>\n",
       "    </tr>\n",
       "    <tr>\n",
       "      <th>2</th>\n",
       "      <td>BD88A2E670661CE5</td>\n",
       "      <td>electric_bike</td>\n",
       "      <td>2023-01-02 07:51:57</td>\n",
       "      <td>2023-01-02 08:05:11</td>\n",
       "      <td>casual</td>\n",
       "      <td>0 days 00:13:14</td>\n",
       "      <td>13.233333</td>\n",
       "    </tr>\n",
       "    <tr>\n",
       "      <th>3</th>\n",
       "      <td>C90792D034FED968</td>\n",
       "      <td>classic_bike</td>\n",
       "      <td>2023-01-22 10:52:58</td>\n",
       "      <td>2023-01-22 11:01:44</td>\n",
       "      <td>member</td>\n",
       "      <td>0 days 00:08:46</td>\n",
       "      <td>8.766667</td>\n",
       "    </tr>\n",
       "    <tr>\n",
       "      <th>4</th>\n",
       "      <td>3397017529188E8A</td>\n",
       "      <td>classic_bike</td>\n",
       "      <td>2023-01-12 13:58:01</td>\n",
       "      <td>2023-01-12 14:13:20</td>\n",
       "      <td>member</td>\n",
       "      <td>0 days 00:15:19</td>\n",
       "      <td>15.316667</td>\n",
       "    </tr>\n",
       "    <tr>\n",
       "      <th>5</th>\n",
       "      <td>58E68156DAE3E311</td>\n",
       "      <td>electric_bike</td>\n",
       "      <td>2023-01-31 07:18:03</td>\n",
       "      <td>2023-01-31 07:21:16</td>\n",
       "      <td>member</td>\n",
       "      <td>0 days 00:03:13</td>\n",
       "      <td>3.216667</td>\n",
       "    </tr>\n",
       "    <tr>\n",
       "      <th>6</th>\n",
       "      <td>2F7194B6012A98D4</td>\n",
       "      <td>electric_bike</td>\n",
       "      <td>2023-01-15 21:18:36</td>\n",
       "      <td>2023-01-15 21:32:36</td>\n",
       "      <td>member</td>\n",
       "      <td>0 days 00:14:00</td>\n",
       "      <td>14.000000</td>\n",
       "    </tr>\n",
       "    <tr>\n",
       "      <th>7</th>\n",
       "      <td>DB1CF84154D6A049</td>\n",
       "      <td>classic_bike</td>\n",
       "      <td>2023-01-25 10:49:01</td>\n",
       "      <td>2023-01-25 10:58:22</td>\n",
       "      <td>member</td>\n",
       "      <td>0 days 00:09:21</td>\n",
       "      <td>9.350000</td>\n",
       "    </tr>\n",
       "    <tr>\n",
       "      <th>8</th>\n",
       "      <td>34EAB943F88C4C5D</td>\n",
       "      <td>electric_bike</td>\n",
       "      <td>2023-01-25 20:49:47</td>\n",
       "      <td>2023-01-25 21:02:14</td>\n",
       "      <td>member</td>\n",
       "      <td>0 days 00:12:27</td>\n",
       "      <td>12.450000</td>\n",
       "    </tr>\n",
       "    <tr>\n",
       "      <th>9</th>\n",
       "      <td>BC8AB1AA51DA9115</td>\n",
       "      <td>classic_bike</td>\n",
       "      <td>2023-01-06 16:37:19</td>\n",
       "      <td>2023-01-06 16:49:52</td>\n",
       "      <td>member</td>\n",
       "      <td>0 days 00:12:33</td>\n",
       "      <td>12.550000</td>\n",
       "    </tr>\n",
       "  </tbody>\n",
       "</table>\n",
       "</div>"
      ],
      "text/plain": [
       "            ride_id  rideable_type          started_at            ended_at  \\\n",
       "0  F96D5A74A3E41399  electric_bike 2023-01-21 20:05:42 2023-01-21 20:16:33   \n",
       "1  13CB7EB698CEDB88   classic_bike 2023-01-10 15:37:36 2023-01-10 15:46:05   \n",
       "2  BD88A2E670661CE5  electric_bike 2023-01-02 07:51:57 2023-01-02 08:05:11   \n",
       "3  C90792D034FED968   classic_bike 2023-01-22 10:52:58 2023-01-22 11:01:44   \n",
       "4  3397017529188E8A   classic_bike 2023-01-12 13:58:01 2023-01-12 14:13:20   \n",
       "5  58E68156DAE3E311  electric_bike 2023-01-31 07:18:03 2023-01-31 07:21:16   \n",
       "6  2F7194B6012A98D4  electric_bike 2023-01-15 21:18:36 2023-01-15 21:32:36   \n",
       "7  DB1CF84154D6A049   classic_bike 2023-01-25 10:49:01 2023-01-25 10:58:22   \n",
       "8  34EAB943F88C4C5D  electric_bike 2023-01-25 20:49:47 2023-01-25 21:02:14   \n",
       "9  BC8AB1AA51DA9115   classic_bike 2023-01-06 16:37:19 2023-01-06 16:49:52   \n",
       "\n",
       "  member_casual        duration  duration (min)  \n",
       "0        member 0 days 00:10:51       10.850000  \n",
       "1        member 0 days 00:08:29        8.483333  \n",
       "2        casual 0 days 00:13:14       13.233333  \n",
       "3        member 0 days 00:08:46        8.766667  \n",
       "4        member 0 days 00:15:19       15.316667  \n",
       "5        member 0 days 00:03:13        3.216667  \n",
       "6        member 0 days 00:14:00       14.000000  \n",
       "7        member 0 days 00:09:21        9.350000  \n",
       "8        member 0 days 00:12:27       12.450000  \n",
       "9        member 0 days 00:12:33       12.550000  "
      ]
     },
     "execution_count": 5,
     "metadata": {},
     "output_type": "execute_result"
    }
   ],
   "source": [
    "# add new column, duration\n",
    "df_2['started_at'] = pd.to_datetime(df_2['started_at'])\n",
    "df_2.loc[:, 'ended_at'] = pd.to_datetime(df_2['ended_at'])\n",
    "# Calculate duration as the difference between \"ended at\" and \"started at\" columns\n",
    "df_2['duration'] = (df_2['ended_at'] - df_2['started_at'])\n",
    "# Add a new column, duration in minutes\n",
    "df_2['duration (min)'] = df_2['duration'].dt.total_seconds() / 60\n",
    "df_2.head(10)"
   ]
  },
  {
   "cell_type": "markdown",
   "id": "e848c872",
   "metadata": {
    "papermill": {
     "duration": 0.011616,
     "end_time": "2023-05-23T06:51:26.556581",
     "exception": false,
     "start_time": "2023-05-23T06:51:26.544965",
     "status": "completed"
    },
    "tags": []
   },
   "source": [
    "Allright, so we have the data that we want to analyze, but first, let's check the completeness of the data.\n"
   ]
  },
  {
   "cell_type": "code",
   "execution_count": 6,
   "id": "52b53c50",
   "metadata": {
    "execution": {
     "iopub.execute_input": "2023-05-23T06:51:26.581067Z",
     "iopub.status.busy": "2023-05-23T06:51:26.580642Z",
     "iopub.status.idle": "2023-05-23T06:51:26.999026Z",
     "shell.execute_reply": "2023-05-23T06:51:26.997758Z"
    },
    "papermill": {
     "duration": 0.433191,
     "end_time": "2023-05-23T06:51:27.001155",
     "exception": false,
     "start_time": "2023-05-23T06:51:26.567964",
     "status": "completed"
    },
    "tags": []
   },
   "outputs": [
    {
     "data": {
      "text/plain": [
       "ride_id           0\n",
       "rideable_type     0\n",
       "started_at        0\n",
       "ended_at          0\n",
       "member_casual     0\n",
       "duration          0\n",
       "duration (min)    0\n",
       "dtype: int64"
      ]
     },
     "execution_count": 6,
     "metadata": {},
     "output_type": "execute_result"
    }
   ],
   "source": [
    "# Check the missing values\n",
    "df_2.isnull().sum()"
   ]
  },
  {
   "cell_type": "markdown",
   "id": "428ee48e",
   "metadata": {
    "papermill": {
     "duration": 0.01112,
     "end_time": "2023-05-23T06:51:27.024078",
     "exception": false,
     "start_time": "2023-05-23T06:51:27.012958",
     "status": "completed"
    },
    "tags": []
   },
   "source": [
    "It seems that our data is completed. Let's see the type of the data."
   ]
  },
  {
   "cell_type": "code",
   "execution_count": 7,
   "id": "d7631d90",
   "metadata": {
    "execution": {
     "iopub.execute_input": "2023-05-23T06:51:27.048782Z",
     "iopub.status.busy": "2023-05-23T06:51:27.048490Z",
     "iopub.status.idle": "2023-05-23T06:51:27.478241Z",
     "shell.execute_reply": "2023-05-23T06:51:27.476542Z"
    },
    "papermill": {
     "duration": 0.445067,
     "end_time": "2023-05-23T06:51:27.480690",
     "exception": false,
     "start_time": "2023-05-23T06:51:27.035623",
     "status": "completed"
    },
    "tags": []
   },
   "outputs": [
    {
     "name": "stdout",
     "output_type": "stream",
     "text": [
      "<class 'pandas.core.frame.DataFrame'>\n",
      "RangeIndex: 1066014 entries, 0 to 1066013\n",
      "Data columns (total 7 columns):\n",
      " #   Column          Non-Null Count    Dtype          \n",
      "---  ------          --------------    -----          \n",
      " 0   ride_id         1066014 non-null  object         \n",
      " 1   rideable_type   1066014 non-null  object         \n",
      " 2   started_at      1066014 non-null  datetime64[ns] \n",
      " 3   ended_at        1066014 non-null  datetime64[ns] \n",
      " 4   member_casual   1066014 non-null  object         \n",
      " 5   duration        1066014 non-null  timedelta64[ns]\n",
      " 6   duration (min)  1066014 non-null  float64        \n",
      "dtypes: datetime64[ns](2), float64(1), object(3), timedelta64[ns](1)\n",
      "memory usage: 56.9+ MB\n"
     ]
    }
   ],
   "source": [
    "df_2.info()"
   ]
  },
  {
   "cell_type": "markdown",
   "id": "08deddcb",
   "metadata": {
    "papermill": {
     "duration": 0.010965,
     "end_time": "2023-05-23T06:51:27.503425",
     "exception": false,
     "start_time": "2023-05-23T06:51:27.492460",
     "status": "completed"
    },
    "tags": []
   },
   "source": [
    "It appears that all the data is in the correct format. The \"started_at\" and \"ended_at\" columns are stored as datetime types, which is suitable for analyzing time-related information. The \"duration\" column is represented as decimal numbers (float64), which allows for precise calculations. Allright let see the summary of the data to know if there's an error of our data."
   ]
  },
  {
   "cell_type": "code",
   "execution_count": 8,
   "id": "f50b79df",
   "metadata": {
    "execution": {
     "iopub.execute_input": "2023-05-23T06:51:27.527823Z",
     "iopub.status.busy": "2023-05-23T06:51:27.527448Z",
     "iopub.status.idle": "2023-05-23T06:51:27.621073Z",
     "shell.execute_reply": "2023-05-23T06:51:27.619307Z"
    },
    "papermill": {
     "duration": 0.109468,
     "end_time": "2023-05-23T06:51:27.624101",
     "exception": false,
     "start_time": "2023-05-23T06:51:27.514633",
     "status": "completed"
    },
    "tags": []
   },
   "outputs": [
    {
     "data": {
      "text/html": [
       "<div>\n",
       "<style scoped>\n",
       "    .dataframe tbody tr th:only-of-type {\n",
       "        vertical-align: middle;\n",
       "    }\n",
       "\n",
       "    .dataframe tbody tr th {\n",
       "        vertical-align: top;\n",
       "    }\n",
       "\n",
       "    .dataframe thead th {\n",
       "        text-align: right;\n",
       "    }\n",
       "</style>\n",
       "<table border=\"1\" class=\"dataframe\">\n",
       "  <thead>\n",
       "    <tr style=\"text-align: right;\">\n",
       "      <th></th>\n",
       "      <th>duration</th>\n",
       "      <th>duration (min)</th>\n",
       "    </tr>\n",
       "  </thead>\n",
       "  <tbody>\n",
       "    <tr>\n",
       "      <th>count</th>\n",
       "      <td>1066014</td>\n",
       "      <td>1.066014e+06</td>\n",
       "    </tr>\n",
       "    <tr>\n",
       "      <th>mean</th>\n",
       "      <td>0 days 00:14:47.985237529</td>\n",
       "      <td>1.479975e+01</td>\n",
       "    </tr>\n",
       "    <tr>\n",
       "      <th>std</th>\n",
       "      <td>0 days 02:10:42.560372567</td>\n",
       "      <td>1.307093e+02</td>\n",
       "    </tr>\n",
       "    <tr>\n",
       "      <th>min</th>\n",
       "      <td>-1 days +23:51:04</td>\n",
       "      <td>-8.933333e+00</td>\n",
       "    </tr>\n",
       "    <tr>\n",
       "      <th>25%</th>\n",
       "      <td>0 days 00:04:36</td>\n",
       "      <td>4.600000e+00</td>\n",
       "    </tr>\n",
       "    <tr>\n",
       "      <th>50%</th>\n",
       "      <td>0 days 00:07:55</td>\n",
       "      <td>7.916667e+00</td>\n",
       "    </tr>\n",
       "    <tr>\n",
       "      <th>75%</th>\n",
       "      <td>0 days 00:13:55</td>\n",
       "      <td>1.391667e+01</td>\n",
       "    </tr>\n",
       "    <tr>\n",
       "      <th>max</th>\n",
       "      <td>23 days 08:03:44</td>\n",
       "      <td>3.360373e+04</td>\n",
       "    </tr>\n",
       "  </tbody>\n",
       "</table>\n",
       "</div>"
      ],
      "text/plain": [
       "                        duration  duration (min)\n",
       "count                    1066014    1.066014e+06\n",
       "mean   0 days 00:14:47.985237529    1.479975e+01\n",
       "std    0 days 02:10:42.560372567    1.307093e+02\n",
       "min            -1 days +23:51:04   -8.933333e+00\n",
       "25%              0 days 00:04:36    4.600000e+00\n",
       "50%              0 days 00:07:55    7.916667e+00\n",
       "75%              0 days 00:13:55    1.391667e+01\n",
       "max             23 days 08:03:44    3.360373e+04"
      ]
     },
     "execution_count": 8,
     "metadata": {},
     "output_type": "execute_result"
    }
   ],
   "source": [
    "df_2.describe()"
   ]
  },
  {
   "cell_type": "markdown",
   "id": "5be73feb",
   "metadata": {
    "papermill": {
     "duration": 0.011468,
     "end_time": "2023-05-23T06:51:27.647374",
     "exception": false,
     "start_time": "2023-05-23T06:51:27.635906",
     "status": "completed"
    },
    "tags": []
   },
   "source": [
    "First, let's take a look again of our data!"
   ]
  },
  {
   "cell_type": "code",
   "execution_count": 9,
   "id": "0afd8595",
   "metadata": {
    "execution": {
     "iopub.execute_input": "2023-05-23T06:51:27.671546Z",
     "iopub.status.busy": "2023-05-23T06:51:27.671221Z",
     "iopub.status.idle": "2023-05-23T06:51:27.684092Z",
     "shell.execute_reply": "2023-05-23T06:51:27.683012Z"
    },
    "papermill": {
     "duration": 0.027031,
     "end_time": "2023-05-23T06:51:27.685855",
     "exception": false,
     "start_time": "2023-05-23T06:51:27.658824",
     "status": "completed"
    },
    "tags": []
   },
   "outputs": [
    {
     "data": {
      "text/html": [
       "<div>\n",
       "<style scoped>\n",
       "    .dataframe tbody tr th:only-of-type {\n",
       "        vertical-align: middle;\n",
       "    }\n",
       "\n",
       "    .dataframe tbody tr th {\n",
       "        vertical-align: top;\n",
       "    }\n",
       "\n",
       "    .dataframe thead th {\n",
       "        text-align: right;\n",
       "    }\n",
       "</style>\n",
       "<table border=\"1\" class=\"dataframe\">\n",
       "  <thead>\n",
       "    <tr style=\"text-align: right;\">\n",
       "      <th></th>\n",
       "      <th>ride_id</th>\n",
       "      <th>rideable_type</th>\n",
       "      <th>started_at</th>\n",
       "      <th>ended_at</th>\n",
       "      <th>member_casual</th>\n",
       "      <th>duration</th>\n",
       "      <th>duration (min)</th>\n",
       "    </tr>\n",
       "  </thead>\n",
       "  <tbody>\n",
       "    <tr>\n",
       "      <th>0</th>\n",
       "      <td>F96D5A74A3E41399</td>\n",
       "      <td>electric_bike</td>\n",
       "      <td>2023-01-21 20:05:42</td>\n",
       "      <td>2023-01-21 20:16:33</td>\n",
       "      <td>member</td>\n",
       "      <td>0 days 00:10:51</td>\n",
       "      <td>10.850000</td>\n",
       "    </tr>\n",
       "    <tr>\n",
       "      <th>1</th>\n",
       "      <td>13CB7EB698CEDB88</td>\n",
       "      <td>classic_bike</td>\n",
       "      <td>2023-01-10 15:37:36</td>\n",
       "      <td>2023-01-10 15:46:05</td>\n",
       "      <td>member</td>\n",
       "      <td>0 days 00:08:29</td>\n",
       "      <td>8.483333</td>\n",
       "    </tr>\n",
       "    <tr>\n",
       "      <th>2</th>\n",
       "      <td>BD88A2E670661CE5</td>\n",
       "      <td>electric_bike</td>\n",
       "      <td>2023-01-02 07:51:57</td>\n",
       "      <td>2023-01-02 08:05:11</td>\n",
       "      <td>casual</td>\n",
       "      <td>0 days 00:13:14</td>\n",
       "      <td>13.233333</td>\n",
       "    </tr>\n",
       "    <tr>\n",
       "      <th>3</th>\n",
       "      <td>C90792D034FED968</td>\n",
       "      <td>classic_bike</td>\n",
       "      <td>2023-01-22 10:52:58</td>\n",
       "      <td>2023-01-22 11:01:44</td>\n",
       "      <td>member</td>\n",
       "      <td>0 days 00:08:46</td>\n",
       "      <td>8.766667</td>\n",
       "    </tr>\n",
       "    <tr>\n",
       "      <th>4</th>\n",
       "      <td>3397017529188E8A</td>\n",
       "      <td>classic_bike</td>\n",
       "      <td>2023-01-12 13:58:01</td>\n",
       "      <td>2023-01-12 14:13:20</td>\n",
       "      <td>member</td>\n",
       "      <td>0 days 00:15:19</td>\n",
       "      <td>15.316667</td>\n",
       "    </tr>\n",
       "    <tr>\n",
       "      <th>5</th>\n",
       "      <td>58E68156DAE3E311</td>\n",
       "      <td>electric_bike</td>\n",
       "      <td>2023-01-31 07:18:03</td>\n",
       "      <td>2023-01-31 07:21:16</td>\n",
       "      <td>member</td>\n",
       "      <td>0 days 00:03:13</td>\n",
       "      <td>3.216667</td>\n",
       "    </tr>\n",
       "    <tr>\n",
       "      <th>6</th>\n",
       "      <td>2F7194B6012A98D4</td>\n",
       "      <td>electric_bike</td>\n",
       "      <td>2023-01-15 21:18:36</td>\n",
       "      <td>2023-01-15 21:32:36</td>\n",
       "      <td>member</td>\n",
       "      <td>0 days 00:14:00</td>\n",
       "      <td>14.000000</td>\n",
       "    </tr>\n",
       "    <tr>\n",
       "      <th>7</th>\n",
       "      <td>DB1CF84154D6A049</td>\n",
       "      <td>classic_bike</td>\n",
       "      <td>2023-01-25 10:49:01</td>\n",
       "      <td>2023-01-25 10:58:22</td>\n",
       "      <td>member</td>\n",
       "      <td>0 days 00:09:21</td>\n",
       "      <td>9.350000</td>\n",
       "    </tr>\n",
       "    <tr>\n",
       "      <th>8</th>\n",
       "      <td>34EAB943F88C4C5D</td>\n",
       "      <td>electric_bike</td>\n",
       "      <td>2023-01-25 20:49:47</td>\n",
       "      <td>2023-01-25 21:02:14</td>\n",
       "      <td>member</td>\n",
       "      <td>0 days 00:12:27</td>\n",
       "      <td>12.450000</td>\n",
       "    </tr>\n",
       "    <tr>\n",
       "      <th>9</th>\n",
       "      <td>BC8AB1AA51DA9115</td>\n",
       "      <td>classic_bike</td>\n",
       "      <td>2023-01-06 16:37:19</td>\n",
       "      <td>2023-01-06 16:49:52</td>\n",
       "      <td>member</td>\n",
       "      <td>0 days 00:12:33</td>\n",
       "      <td>12.550000</td>\n",
       "    </tr>\n",
       "  </tbody>\n",
       "</table>\n",
       "</div>"
      ],
      "text/plain": [
       "            ride_id  rideable_type          started_at            ended_at  \\\n",
       "0  F96D5A74A3E41399  electric_bike 2023-01-21 20:05:42 2023-01-21 20:16:33   \n",
       "1  13CB7EB698CEDB88   classic_bike 2023-01-10 15:37:36 2023-01-10 15:46:05   \n",
       "2  BD88A2E670661CE5  electric_bike 2023-01-02 07:51:57 2023-01-02 08:05:11   \n",
       "3  C90792D034FED968   classic_bike 2023-01-22 10:52:58 2023-01-22 11:01:44   \n",
       "4  3397017529188E8A   classic_bike 2023-01-12 13:58:01 2023-01-12 14:13:20   \n",
       "5  58E68156DAE3E311  electric_bike 2023-01-31 07:18:03 2023-01-31 07:21:16   \n",
       "6  2F7194B6012A98D4  electric_bike 2023-01-15 21:18:36 2023-01-15 21:32:36   \n",
       "7  DB1CF84154D6A049   classic_bike 2023-01-25 10:49:01 2023-01-25 10:58:22   \n",
       "8  34EAB943F88C4C5D  electric_bike 2023-01-25 20:49:47 2023-01-25 21:02:14   \n",
       "9  BC8AB1AA51DA9115   classic_bike 2023-01-06 16:37:19 2023-01-06 16:49:52   \n",
       "\n",
       "  member_casual        duration  duration (min)  \n",
       "0        member 0 days 00:10:51       10.850000  \n",
       "1        member 0 days 00:08:29        8.483333  \n",
       "2        casual 0 days 00:13:14       13.233333  \n",
       "3        member 0 days 00:08:46        8.766667  \n",
       "4        member 0 days 00:15:19       15.316667  \n",
       "5        member 0 days 00:03:13        3.216667  \n",
       "6        member 0 days 00:14:00       14.000000  \n",
       "7        member 0 days 00:09:21        9.350000  \n",
       "8        member 0 days 00:12:27       12.450000  \n",
       "9        member 0 days 00:12:33       12.550000  "
      ]
     },
     "execution_count": 9,
     "metadata": {},
     "output_type": "execute_result"
    }
   ],
   "source": [
    "df_2.head(10)"
   ]
  },
  {
   "cell_type": "markdown",
   "id": "9f367040",
   "metadata": {
    "papermill": {
     "duration": 0.010778,
     "end_time": "2023-05-23T06:51:27.708005",
     "exception": false,
     "start_time": "2023-05-23T06:51:27.697227",
     "status": "completed"
    },
    "tags": []
   },
   "source": [
    "Allright, let's take a look at statistical summary of our data!"
   ]
  },
  {
   "cell_type": "code",
   "execution_count": 10,
   "id": "8d8a8192",
   "metadata": {
    "execution": {
     "iopub.execute_input": "2023-05-23T06:51:27.732237Z",
     "iopub.status.busy": "2023-05-23T06:51:27.731895Z",
     "iopub.status.idle": "2023-05-23T06:51:27.817583Z",
     "shell.execute_reply": "2023-05-23T06:51:27.816433Z"
    },
    "papermill": {
     "duration": 0.100193,
     "end_time": "2023-05-23T06:51:27.819459",
     "exception": false,
     "start_time": "2023-05-23T06:51:27.719266",
     "status": "completed"
    },
    "tags": []
   },
   "outputs": [
    {
     "data": {
      "text/html": [
       "<div>\n",
       "<style scoped>\n",
       "    .dataframe tbody tr th:only-of-type {\n",
       "        vertical-align: middle;\n",
       "    }\n",
       "\n",
       "    .dataframe tbody tr th {\n",
       "        vertical-align: top;\n",
       "    }\n",
       "\n",
       "    .dataframe thead th {\n",
       "        text-align: right;\n",
       "    }\n",
       "</style>\n",
       "<table border=\"1\" class=\"dataframe\">\n",
       "  <thead>\n",
       "    <tr style=\"text-align: right;\">\n",
       "      <th></th>\n",
       "      <th>duration</th>\n",
       "      <th>duration (min)</th>\n",
       "    </tr>\n",
       "  </thead>\n",
       "  <tbody>\n",
       "    <tr>\n",
       "      <th>count</th>\n",
       "      <td>1066014</td>\n",
       "      <td>1.066014e+06</td>\n",
       "    </tr>\n",
       "    <tr>\n",
       "      <th>mean</th>\n",
       "      <td>0 days 00:14:47.985237529</td>\n",
       "      <td>1.479975e+01</td>\n",
       "    </tr>\n",
       "    <tr>\n",
       "      <th>std</th>\n",
       "      <td>0 days 02:10:42.560372567</td>\n",
       "      <td>1.307093e+02</td>\n",
       "    </tr>\n",
       "    <tr>\n",
       "      <th>min</th>\n",
       "      <td>-1 days +23:51:04</td>\n",
       "      <td>-8.933333e+00</td>\n",
       "    </tr>\n",
       "    <tr>\n",
       "      <th>25%</th>\n",
       "      <td>0 days 00:04:36</td>\n",
       "      <td>4.600000e+00</td>\n",
       "    </tr>\n",
       "    <tr>\n",
       "      <th>50%</th>\n",
       "      <td>0 days 00:07:55</td>\n",
       "      <td>7.916667e+00</td>\n",
       "    </tr>\n",
       "    <tr>\n",
       "      <th>75%</th>\n",
       "      <td>0 days 00:13:55</td>\n",
       "      <td>1.391667e+01</td>\n",
       "    </tr>\n",
       "    <tr>\n",
       "      <th>max</th>\n",
       "      <td>23 days 08:03:44</td>\n",
       "      <td>3.360373e+04</td>\n",
       "    </tr>\n",
       "  </tbody>\n",
       "</table>\n",
       "</div>"
      ],
      "text/plain": [
       "                        duration  duration (min)\n",
       "count                    1066014    1.066014e+06\n",
       "mean   0 days 00:14:47.985237529    1.479975e+01\n",
       "std    0 days 02:10:42.560372567    1.307093e+02\n",
       "min            -1 days +23:51:04   -8.933333e+00\n",
       "25%              0 days 00:04:36    4.600000e+00\n",
       "50%              0 days 00:07:55    7.916667e+00\n",
       "75%              0 days 00:13:55    1.391667e+01\n",
       "max             23 days 08:03:44    3.360373e+04"
      ]
     },
     "execution_count": 10,
     "metadata": {},
     "output_type": "execute_result"
    }
   ],
   "source": [
    "# Statistical summary of our data\n",
    "df_2.describe()"
   ]
  },
  {
   "cell_type": "markdown",
   "id": "b34ed2c4",
   "metadata": {
    "papermill": {
     "duration": 0.011863,
     "end_time": "2023-05-23T06:51:27.843125",
     "exception": false,
     "start_time": "2023-05-23T06:51:27.831262",
     "status": "completed"
    },
    "tags": []
   },
   "source": [
    "Wait, as you see, the data is somewhat confusing, as there's a duration with -1 days +23.51:04. To clean that, we need to filter the data with duration>0"
   ]
  },
  {
   "cell_type": "code",
   "execution_count": 11,
   "id": "7b811303",
   "metadata": {
    "execution": {
     "iopub.execute_input": "2023-05-23T06:51:27.868225Z",
     "iopub.status.busy": "2023-05-23T06:51:27.867828Z",
     "iopub.status.idle": "2023-05-23T06:51:27.958916Z",
     "shell.execute_reply": "2023-05-23T06:51:27.957262Z"
    },
    "papermill": {
     "duration": 0.106829,
     "end_time": "2023-05-23T06:51:27.961541",
     "exception": false,
     "start_time": "2023-05-23T06:51:27.854712",
     "status": "completed"
    },
    "tags": []
   },
   "outputs": [],
   "source": [
    "df_2 = df_2[df_2['duration'] > pd.Timedelta(0)]"
   ]
  },
  {
   "cell_type": "markdown",
   "id": "2e005753",
   "metadata": {
    "papermill": {
     "duration": 0.011999,
     "end_time": "2023-05-23T06:51:27.986060",
     "exception": false,
     "start_time": "2023-05-23T06:51:27.974061",
     "status": "completed"
    },
    "tags": []
   },
   "source": [
    "Let's take a look again with our data!\n"
   ]
  },
  {
   "cell_type": "code",
   "execution_count": 12,
   "id": "fa351137",
   "metadata": {
    "execution": {
     "iopub.execute_input": "2023-05-23T06:51:28.012123Z",
     "iopub.status.busy": "2023-05-23T06:51:28.011746Z",
     "iopub.status.idle": "2023-05-23T06:51:28.025670Z",
     "shell.execute_reply": "2023-05-23T06:51:28.024169Z"
    },
    "papermill": {
     "duration": 0.030004,
     "end_time": "2023-05-23T06:51:28.028151",
     "exception": false,
     "start_time": "2023-05-23T06:51:27.998147",
     "status": "completed"
    },
    "tags": []
   },
   "outputs": [
    {
     "data": {
      "text/html": [
       "<div>\n",
       "<style scoped>\n",
       "    .dataframe tbody tr th:only-of-type {\n",
       "        vertical-align: middle;\n",
       "    }\n",
       "\n",
       "    .dataframe tbody tr th {\n",
       "        vertical-align: top;\n",
       "    }\n",
       "\n",
       "    .dataframe thead th {\n",
       "        text-align: right;\n",
       "    }\n",
       "</style>\n",
       "<table border=\"1\" class=\"dataframe\">\n",
       "  <thead>\n",
       "    <tr style=\"text-align: right;\">\n",
       "      <th></th>\n",
       "      <th>ride_id</th>\n",
       "      <th>rideable_type</th>\n",
       "      <th>started_at</th>\n",
       "      <th>ended_at</th>\n",
       "      <th>member_casual</th>\n",
       "      <th>duration</th>\n",
       "      <th>duration (min)</th>\n",
       "    </tr>\n",
       "  </thead>\n",
       "  <tbody>\n",
       "    <tr>\n",
       "      <th>0</th>\n",
       "      <td>F96D5A74A3E41399</td>\n",
       "      <td>electric_bike</td>\n",
       "      <td>2023-01-21 20:05:42</td>\n",
       "      <td>2023-01-21 20:16:33</td>\n",
       "      <td>member</td>\n",
       "      <td>0 days 00:10:51</td>\n",
       "      <td>10.850000</td>\n",
       "    </tr>\n",
       "    <tr>\n",
       "      <th>1</th>\n",
       "      <td>13CB7EB698CEDB88</td>\n",
       "      <td>classic_bike</td>\n",
       "      <td>2023-01-10 15:37:36</td>\n",
       "      <td>2023-01-10 15:46:05</td>\n",
       "      <td>member</td>\n",
       "      <td>0 days 00:08:29</td>\n",
       "      <td>8.483333</td>\n",
       "    </tr>\n",
       "    <tr>\n",
       "      <th>2</th>\n",
       "      <td>BD88A2E670661CE5</td>\n",
       "      <td>electric_bike</td>\n",
       "      <td>2023-01-02 07:51:57</td>\n",
       "      <td>2023-01-02 08:05:11</td>\n",
       "      <td>casual</td>\n",
       "      <td>0 days 00:13:14</td>\n",
       "      <td>13.233333</td>\n",
       "    </tr>\n",
       "    <tr>\n",
       "      <th>3</th>\n",
       "      <td>C90792D034FED968</td>\n",
       "      <td>classic_bike</td>\n",
       "      <td>2023-01-22 10:52:58</td>\n",
       "      <td>2023-01-22 11:01:44</td>\n",
       "      <td>member</td>\n",
       "      <td>0 days 00:08:46</td>\n",
       "      <td>8.766667</td>\n",
       "    </tr>\n",
       "    <tr>\n",
       "      <th>4</th>\n",
       "      <td>3397017529188E8A</td>\n",
       "      <td>classic_bike</td>\n",
       "      <td>2023-01-12 13:58:01</td>\n",
       "      <td>2023-01-12 14:13:20</td>\n",
       "      <td>member</td>\n",
       "      <td>0 days 00:15:19</td>\n",
       "      <td>15.316667</td>\n",
       "    </tr>\n",
       "    <tr>\n",
       "      <th>5</th>\n",
       "      <td>58E68156DAE3E311</td>\n",
       "      <td>electric_bike</td>\n",
       "      <td>2023-01-31 07:18:03</td>\n",
       "      <td>2023-01-31 07:21:16</td>\n",
       "      <td>member</td>\n",
       "      <td>0 days 00:03:13</td>\n",
       "      <td>3.216667</td>\n",
       "    </tr>\n",
       "    <tr>\n",
       "      <th>6</th>\n",
       "      <td>2F7194B6012A98D4</td>\n",
       "      <td>electric_bike</td>\n",
       "      <td>2023-01-15 21:18:36</td>\n",
       "      <td>2023-01-15 21:32:36</td>\n",
       "      <td>member</td>\n",
       "      <td>0 days 00:14:00</td>\n",
       "      <td>14.000000</td>\n",
       "    </tr>\n",
       "    <tr>\n",
       "      <th>7</th>\n",
       "      <td>DB1CF84154D6A049</td>\n",
       "      <td>classic_bike</td>\n",
       "      <td>2023-01-25 10:49:01</td>\n",
       "      <td>2023-01-25 10:58:22</td>\n",
       "      <td>member</td>\n",
       "      <td>0 days 00:09:21</td>\n",
       "      <td>9.350000</td>\n",
       "    </tr>\n",
       "    <tr>\n",
       "      <th>8</th>\n",
       "      <td>34EAB943F88C4C5D</td>\n",
       "      <td>electric_bike</td>\n",
       "      <td>2023-01-25 20:49:47</td>\n",
       "      <td>2023-01-25 21:02:14</td>\n",
       "      <td>member</td>\n",
       "      <td>0 days 00:12:27</td>\n",
       "      <td>12.450000</td>\n",
       "    </tr>\n",
       "    <tr>\n",
       "      <th>9</th>\n",
       "      <td>BC8AB1AA51DA9115</td>\n",
       "      <td>classic_bike</td>\n",
       "      <td>2023-01-06 16:37:19</td>\n",
       "      <td>2023-01-06 16:49:52</td>\n",
       "      <td>member</td>\n",
       "      <td>0 days 00:12:33</td>\n",
       "      <td>12.550000</td>\n",
       "    </tr>\n",
       "  </tbody>\n",
       "</table>\n",
       "</div>"
      ],
      "text/plain": [
       "            ride_id  rideable_type          started_at            ended_at  \\\n",
       "0  F96D5A74A3E41399  electric_bike 2023-01-21 20:05:42 2023-01-21 20:16:33   \n",
       "1  13CB7EB698CEDB88   classic_bike 2023-01-10 15:37:36 2023-01-10 15:46:05   \n",
       "2  BD88A2E670661CE5  electric_bike 2023-01-02 07:51:57 2023-01-02 08:05:11   \n",
       "3  C90792D034FED968   classic_bike 2023-01-22 10:52:58 2023-01-22 11:01:44   \n",
       "4  3397017529188E8A   classic_bike 2023-01-12 13:58:01 2023-01-12 14:13:20   \n",
       "5  58E68156DAE3E311  electric_bike 2023-01-31 07:18:03 2023-01-31 07:21:16   \n",
       "6  2F7194B6012A98D4  electric_bike 2023-01-15 21:18:36 2023-01-15 21:32:36   \n",
       "7  DB1CF84154D6A049   classic_bike 2023-01-25 10:49:01 2023-01-25 10:58:22   \n",
       "8  34EAB943F88C4C5D  electric_bike 2023-01-25 20:49:47 2023-01-25 21:02:14   \n",
       "9  BC8AB1AA51DA9115   classic_bike 2023-01-06 16:37:19 2023-01-06 16:49:52   \n",
       "\n",
       "  member_casual        duration  duration (min)  \n",
       "0        member 0 days 00:10:51       10.850000  \n",
       "1        member 0 days 00:08:29        8.483333  \n",
       "2        casual 0 days 00:13:14       13.233333  \n",
       "3        member 0 days 00:08:46        8.766667  \n",
       "4        member 0 days 00:15:19       15.316667  \n",
       "5        member 0 days 00:03:13        3.216667  \n",
       "6        member 0 days 00:14:00       14.000000  \n",
       "7        member 0 days 00:09:21        9.350000  \n",
       "8        member 0 days 00:12:27       12.450000  \n",
       "9        member 0 days 00:12:33       12.550000  "
      ]
     },
     "execution_count": 12,
     "metadata": {},
     "output_type": "execute_result"
    }
   ],
   "source": [
    "df_2.head(10)"
   ]
  },
  {
   "cell_type": "markdown",
   "id": "0b917f29",
   "metadata": {
    "papermill": {
     "duration": 0.012121,
     "end_time": "2023-05-23T06:51:28.052760",
     "exception": false,
     "start_time": "2023-05-23T06:51:28.040639",
     "status": "completed"
    },
    "tags": []
   },
   "source": [
    "Let's take a look again with our statistical summary!"
   ]
  },
  {
   "cell_type": "code",
   "execution_count": 13,
   "id": "2f720370",
   "metadata": {
    "execution": {
     "iopub.execute_input": "2023-05-23T06:51:28.079612Z",
     "iopub.status.busy": "2023-05-23T06:51:28.079239Z",
     "iopub.status.idle": "2023-05-23T06:51:28.160807Z",
     "shell.execute_reply": "2023-05-23T06:51:28.159368Z"
    },
    "papermill": {
     "duration": 0.098625,
     "end_time": "2023-05-23T06:51:28.163873",
     "exception": false,
     "start_time": "2023-05-23T06:51:28.065248",
     "status": "completed"
    },
    "tags": []
   },
   "outputs": [
    {
     "data": {
      "text/html": [
       "<div>\n",
       "<style scoped>\n",
       "    .dataframe tbody tr th:only-of-type {\n",
       "        vertical-align: middle;\n",
       "    }\n",
       "\n",
       "    .dataframe tbody tr th {\n",
       "        vertical-align: top;\n",
       "    }\n",
       "\n",
       "    .dataframe thead th {\n",
       "        text-align: right;\n",
       "    }\n",
       "</style>\n",
       "<table border=\"1\" class=\"dataframe\">\n",
       "  <thead>\n",
       "    <tr style=\"text-align: right;\">\n",
       "      <th></th>\n",
       "      <th>duration</th>\n",
       "      <th>duration (min)</th>\n",
       "    </tr>\n",
       "  </thead>\n",
       "  <tbody>\n",
       "    <tr>\n",
       "      <th>count</th>\n",
       "      <td>1065942</td>\n",
       "      <td>1065942.000</td>\n",
       "    </tr>\n",
       "    <tr>\n",
       "      <th>mean</th>\n",
       "      <td>0 days 00:14:48.045915256</td>\n",
       "      <td>14.801</td>\n",
       "    </tr>\n",
       "    <tr>\n",
       "      <th>std</th>\n",
       "      <td>0 days 02:10:42.821740418</td>\n",
       "      <td>130.714</td>\n",
       "    </tr>\n",
       "    <tr>\n",
       "      <th>min</th>\n",
       "      <td>0 days 00:00:01</td>\n",
       "      <td>0.017</td>\n",
       "    </tr>\n",
       "    <tr>\n",
       "      <th>25%</th>\n",
       "      <td>0 days 00:04:36</td>\n",
       "      <td>4.600</td>\n",
       "    </tr>\n",
       "    <tr>\n",
       "      <th>50%</th>\n",
       "      <td>0 days 00:07:55</td>\n",
       "      <td>7.917</td>\n",
       "    </tr>\n",
       "    <tr>\n",
       "      <th>75%</th>\n",
       "      <td>0 days 00:13:55</td>\n",
       "      <td>13.917</td>\n",
       "    </tr>\n",
       "    <tr>\n",
       "      <th>max</th>\n",
       "      <td>23 days 08:03:44</td>\n",
       "      <td>33603.733</td>\n",
       "    </tr>\n",
       "  </tbody>\n",
       "</table>\n",
       "</div>"
      ],
      "text/plain": [
       "                        duration  duration (min)\n",
       "count                    1065942     1065942.000\n",
       "mean   0 days 00:14:48.045915256          14.801\n",
       "std    0 days 02:10:42.821740418         130.714\n",
       "min              0 days 00:00:01           0.017\n",
       "25%              0 days 00:04:36           4.600\n",
       "50%              0 days 00:07:55           7.917\n",
       "75%              0 days 00:13:55          13.917\n",
       "max             23 days 08:03:44       33603.733"
      ]
     },
     "execution_count": 13,
     "metadata": {},
     "output_type": "execute_result"
    }
   ],
   "source": [
    "# change the format from scientific to normal format\n",
    "pd.set_option('display.float_format', '{:.3f}'.format)\n",
    "\n",
    "df_2.describe()"
   ]
  },
  {
   "cell_type": "markdown",
   "id": "1b74c5c2",
   "metadata": {
    "papermill": {
     "duration": 0.01286,
     "end_time": "2023-05-23T06:51:28.189994",
     "exception": false,
     "start_time": "2023-05-23T06:51:28.177134",
     "status": "completed"
    },
    "tags": []
   },
   "source": [
    "The data seems fine. Allright, so the data is well prepared and then right now we can move to Data Analysis Process!"
   ]
  },
  {
   "cell_type": "markdown",
   "id": "a75e3c11",
   "metadata": {
    "papermill": {
     "duration": 0.012631,
     "end_time": "2023-05-23T06:51:28.215691",
     "exception": false,
     "start_time": "2023-05-23T06:51:28.203060",
     "status": "completed"
    },
    "tags": []
   },
   "source": [
    "# **Data Analysis Process**"
   ]
  },
  {
   "cell_type": "markdown",
   "id": "4bb88ccc",
   "metadata": {
    "papermill": {
     "duration": 0.013049,
     "end_time": "2023-05-23T06:51:28.241696",
     "exception": false,
     "start_time": "2023-05-23T06:51:28.228647",
     "status": "completed"
    },
    "tags": []
   },
   "source": [
    "For this analysis process, we'll split into three steps.\n",
    "1. **Overall analysis (January-April)**\n",
    "2. **Monthly analysis**\n",
    "3. **The same day trip analysis**"
   ]
  },
  {
   "cell_type": "markdown",
   "id": "b13f1807",
   "metadata": {
    "papermill": {
     "duration": 0.011718,
     "end_time": "2023-05-23T06:51:28.265841",
     "exception": false,
     "start_time": "2023-05-23T06:51:28.254123",
     "status": "completed"
    },
    "tags": []
   },
   "source": [
    "# **Overall Analysis**"
   ]
  },
  {
   "cell_type": "markdown",
   "id": "675f6690",
   "metadata": {
    "papermill": {
     "duration": 0.011824,
     "end_time": "2023-05-23T06:51:28.289575",
     "exception": false,
     "start_time": "2023-05-23T06:51:28.277751",
     "status": "completed"
    },
    "tags": []
   },
   "source": [
    "Allright, don't get bored to take a look of our statistical summary!"
   ]
  },
  {
   "cell_type": "code",
   "execution_count": 14,
   "id": "758a319c",
   "metadata": {
    "execution": {
     "iopub.execute_input": "2023-05-23T06:51:28.316726Z",
     "iopub.status.busy": "2023-05-23T06:51:28.315839Z",
     "iopub.status.idle": "2023-05-23T06:51:28.393758Z",
     "shell.execute_reply": "2023-05-23T06:51:28.392630Z"
    },
    "papermill": {
     "duration": 0.094529,
     "end_time": "2023-05-23T06:51:28.395879",
     "exception": false,
     "start_time": "2023-05-23T06:51:28.301350",
     "status": "completed"
    },
    "tags": []
   },
   "outputs": [
    {
     "data": {
      "text/html": [
       "<div>\n",
       "<style scoped>\n",
       "    .dataframe tbody tr th:only-of-type {\n",
       "        vertical-align: middle;\n",
       "    }\n",
       "\n",
       "    .dataframe tbody tr th {\n",
       "        vertical-align: top;\n",
       "    }\n",
       "\n",
       "    .dataframe thead th {\n",
       "        text-align: right;\n",
       "    }\n",
       "</style>\n",
       "<table border=\"1\" class=\"dataframe\">\n",
       "  <thead>\n",
       "    <tr style=\"text-align: right;\">\n",
       "      <th></th>\n",
       "      <th>duration</th>\n",
       "      <th>duration (min)</th>\n",
       "    </tr>\n",
       "  </thead>\n",
       "  <tbody>\n",
       "    <tr>\n",
       "      <th>count</th>\n",
       "      <td>1065942</td>\n",
       "      <td>1065942.000</td>\n",
       "    </tr>\n",
       "    <tr>\n",
       "      <th>mean</th>\n",
       "      <td>0 days 00:14:48.045915256</td>\n",
       "      <td>14.801</td>\n",
       "    </tr>\n",
       "    <tr>\n",
       "      <th>std</th>\n",
       "      <td>0 days 02:10:42.821740418</td>\n",
       "      <td>130.714</td>\n",
       "    </tr>\n",
       "    <tr>\n",
       "      <th>min</th>\n",
       "      <td>0 days 00:00:01</td>\n",
       "      <td>0.017</td>\n",
       "    </tr>\n",
       "    <tr>\n",
       "      <th>25%</th>\n",
       "      <td>0 days 00:04:36</td>\n",
       "      <td>4.600</td>\n",
       "    </tr>\n",
       "    <tr>\n",
       "      <th>50%</th>\n",
       "      <td>0 days 00:07:55</td>\n",
       "      <td>7.917</td>\n",
       "    </tr>\n",
       "    <tr>\n",
       "      <th>75%</th>\n",
       "      <td>0 days 00:13:55</td>\n",
       "      <td>13.917</td>\n",
       "    </tr>\n",
       "    <tr>\n",
       "      <th>max</th>\n",
       "      <td>23 days 08:03:44</td>\n",
       "      <td>33603.733</td>\n",
       "    </tr>\n",
       "  </tbody>\n",
       "</table>\n",
       "</div>"
      ],
      "text/plain": [
       "                        duration  duration (min)\n",
       "count                    1065942     1065942.000\n",
       "mean   0 days 00:14:48.045915256          14.801\n",
       "std    0 days 02:10:42.821740418         130.714\n",
       "min              0 days 00:00:01           0.017\n",
       "25%              0 days 00:04:36           4.600\n",
       "50%              0 days 00:07:55           7.917\n",
       "75%              0 days 00:13:55          13.917\n",
       "max             23 days 08:03:44       33603.733"
      ]
     },
     "execution_count": 14,
     "metadata": {},
     "output_type": "execute_result"
    }
   ],
   "source": [
    "pd.set_option('display.float_format', '{:.3f}'.format)\n",
    "df_2.describe()"
   ]
  },
  {
   "cell_type": "markdown",
   "id": "0f369ae3",
   "metadata": {
    "papermill": {
     "duration": 0.012482,
     "end_time": "2023-05-23T06:51:28.421454",
     "exception": false,
     "start_time": "2023-05-23T06:51:28.408972",
     "status": "completed"
    },
    "tags": []
   },
   "source": [
    "As we can see, the standar deviation (std) that shows the high variability of the users's duration. The average of duration is **14 minutes**, the shortest duration is **1 sec** and the longest duration is **23 days 8 hours, 3 minutes, and 44 sec**. Well, from 1 sec to 23 days is really different, right? So, let's grouped the data based on **type of users** and **type of bikes.**"
   ]
  },
  {
   "cell_type": "code",
   "execution_count": 15,
   "id": "d37a5cfd",
   "metadata": {
    "execution": {
     "iopub.execute_input": "2023-05-23T06:51:28.449285Z",
     "iopub.status.busy": "2023-05-23T06:51:28.448410Z",
     "iopub.status.idle": "2023-05-23T06:51:28.743556Z",
     "shell.execute_reply": "2023-05-23T06:51:28.742359Z"
    },
    "papermill": {
     "duration": 0.312186,
     "end_time": "2023-05-23T06:51:28.746270",
     "exception": false,
     "start_time": "2023-05-23T06:51:28.434084",
     "status": "completed"
    },
    "tags": []
   },
   "outputs": [
    {
     "data": {
      "text/html": [
       "<div>\n",
       "<style scoped>\n",
       "    .dataframe tbody tr th:only-of-type {\n",
       "        vertical-align: middle;\n",
       "    }\n",
       "\n",
       "    .dataframe tbody tr th {\n",
       "        vertical-align: top;\n",
       "    }\n",
       "\n",
       "    .dataframe thead th {\n",
       "        text-align: right;\n",
       "    }\n",
       "</style>\n",
       "<table border=\"1\" class=\"dataframe\">\n",
       "  <thead>\n",
       "    <tr style=\"text-align: right;\">\n",
       "      <th></th>\n",
       "      <th></th>\n",
       "      <th>count</th>\n",
       "      <th>mean</th>\n",
       "      <th>std</th>\n",
       "      <th>min</th>\n",
       "      <th>25%</th>\n",
       "      <th>50%</th>\n",
       "      <th>75%</th>\n",
       "      <th>max</th>\n",
       "    </tr>\n",
       "    <tr>\n",
       "      <th>member_casual</th>\n",
       "      <th>rideable_type</th>\n",
       "      <th></th>\n",
       "      <th></th>\n",
       "      <th></th>\n",
       "      <th></th>\n",
       "      <th></th>\n",
       "      <th></th>\n",
       "      <th></th>\n",
       "      <th></th>\n",
       "    </tr>\n",
       "  </thead>\n",
       "  <tbody>\n",
       "    <tr>\n",
       "      <th rowspan=\"3\" valign=\"top\">casual</th>\n",
       "      <th>classic_bike</th>\n",
       "      <td>97795.000</td>\n",
       "      <td>28.006</td>\n",
       "      <td>104.211</td>\n",
       "      <td>0.017</td>\n",
       "      <td>6.633</td>\n",
       "      <td>11.783</td>\n",
       "      <td>22.933</td>\n",
       "      <td>1559.933</td>\n",
       "    </tr>\n",
       "    <tr>\n",
       "      <th>docked_bike</th>\n",
       "      <td>15840.000</td>\n",
       "      <td>150.039</td>\n",
       "      <td>1011.028</td>\n",
       "      <td>0.033</td>\n",
       "      <td>13.617</td>\n",
       "      <td>25.067</td>\n",
       "      <td>48.050</td>\n",
       "      <td>33603.733</td>\n",
       "    </tr>\n",
       "    <tr>\n",
       "      <th>electric_bike</th>\n",
       "      <td>178847.000</td>\n",
       "      <td>12.338</td>\n",
       "      <td>15.025</td>\n",
       "      <td>0.017</td>\n",
       "      <td>4.883</td>\n",
       "      <td>8.217</td>\n",
       "      <td>14.417</td>\n",
       "      <td>480.450</td>\n",
       "    </tr>\n",
       "    <tr>\n",
       "      <th rowspan=\"2\" valign=\"top\">member</th>\n",
       "      <th>classic_bike</th>\n",
       "      <td>359198.000</td>\n",
       "      <td>12.137</td>\n",
       "      <td>37.428</td>\n",
       "      <td>0.017</td>\n",
       "      <td>4.667</td>\n",
       "      <td>7.900</td>\n",
       "      <td>13.800</td>\n",
       "      <td>1559.667</td>\n",
       "    </tr>\n",
       "    <tr>\n",
       "      <th>electric_bike</th>\n",
       "      <td>414262.000</td>\n",
       "      <td>9.885</td>\n",
       "      <td>15.261</td>\n",
       "      <td>0.017</td>\n",
       "      <td>4.083</td>\n",
       "      <td>6.967</td>\n",
       "      <td>11.783</td>\n",
       "      <td>481.400</td>\n",
       "    </tr>\n",
       "  </tbody>\n",
       "</table>\n",
       "</div>"
      ],
      "text/plain": [
       "                                 count    mean      std   min    25%    50%  \\\n",
       "member_casual rideable_type                                                   \n",
       "casual        classic_bike   97795.000  28.006  104.211 0.017  6.633 11.783   \n",
       "              docked_bike    15840.000 150.039 1011.028 0.033 13.617 25.067   \n",
       "              electric_bike 178847.000  12.338   15.025 0.017  4.883  8.217   \n",
       "member        classic_bike  359198.000  12.137   37.428 0.017  4.667  7.900   \n",
       "              electric_bike 414262.000   9.885   15.261 0.017  4.083  6.967   \n",
       "\n",
       "                               75%       max  \n",
       "member_casual rideable_type                   \n",
       "casual        classic_bike  22.933  1559.933  \n",
       "              docked_bike   48.050 33603.733  \n",
       "              electric_bike 14.417   480.450  \n",
       "member        classic_bike  13.800  1559.667  \n",
       "              electric_bike 11.783   481.400  "
      ]
     },
     "execution_count": 15,
     "metadata": {},
     "output_type": "execute_result"
    }
   ],
   "source": [
    "# data is grouped by type of users and type of bikes\n",
    "df_3=df_2.groupby([df_2['member_casual'],df_2['rideable_type']])['duration (min)']\n",
    "df_3.describe()"
   ]
  },
  {
   "cell_type": "markdown",
   "id": "8cf00982",
   "metadata": {
    "papermill": {
     "duration": 0.011783,
     "end_time": "2023-05-23T06:51:28.770738",
     "exception": false,
     "start_time": "2023-05-23T06:51:28.758955",
     "status": "completed"
    },
    "tags": []
   },
   "source": [
    "As we can see, overall the member users are **higher** than the casual users, but casual users use bike longer than the member users. The casual users also use all types of bike, meanwhile the member users only use **classic** and **electric bike**. The average usage of docked bike from casual users is also **significantly higher** than usage of all types of  bike, whether it's from casual or member users, with the average usage is **150 minutes**. Next, we move to monthly analysis!"
   ]
  },
  {
   "cell_type": "markdown",
   "id": "93f16f3a",
   "metadata": {
    "papermill": {
     "duration": 0.013614,
     "end_time": "2023-05-23T06:51:28.796665",
     "exception": false,
     "start_time": "2023-05-23T06:51:28.783051",
     "status": "completed"
    },
    "tags": []
   },
   "source": [
    "# **Monthly Analysis**"
   ]
  },
  {
   "cell_type": "code",
   "execution_count": 16,
   "id": "d7e518dd",
   "metadata": {
    "execution": {
     "iopub.execute_input": "2023-05-23T06:51:28.824858Z",
     "iopub.status.busy": "2023-05-23T06:51:28.823769Z",
     "iopub.status.idle": "2023-05-23T06:51:28.943299Z",
     "shell.execute_reply": "2023-05-23T06:51:28.942183Z"
    },
    "papermill": {
     "duration": 0.136531,
     "end_time": "2023-05-23T06:51:28.946144",
     "exception": false,
     "start_time": "2023-05-23T06:51:28.809613",
     "status": "completed"
    },
    "tags": []
   },
   "outputs": [
    {
     "data": {
      "text/html": [
       "<div>\n",
       "<style scoped>\n",
       "    .dataframe tbody tr th:only-of-type {\n",
       "        vertical-align: middle;\n",
       "    }\n",
       "\n",
       "    .dataframe tbody tr th {\n",
       "        vertical-align: top;\n",
       "    }\n",
       "\n",
       "    .dataframe thead th {\n",
       "        text-align: right;\n",
       "    }\n",
       "</style>\n",
       "<table border=\"1\" class=\"dataframe\">\n",
       "  <thead>\n",
       "    <tr style=\"text-align: right;\">\n",
       "      <th></th>\n",
       "      <th>count</th>\n",
       "      <th>mean</th>\n",
       "      <th>std</th>\n",
       "      <th>min</th>\n",
       "      <th>25%</th>\n",
       "      <th>50%</th>\n",
       "      <th>75%</th>\n",
       "      <th>max</th>\n",
       "    </tr>\n",
       "    <tr>\n",
       "      <th>started_at</th>\n",
       "      <th></th>\n",
       "      <th></th>\n",
       "      <th></th>\n",
       "      <th></th>\n",
       "      <th></th>\n",
       "      <th></th>\n",
       "      <th></th>\n",
       "      <th></th>\n",
       "    </tr>\n",
       "  </thead>\n",
       "  <tbody>\n",
       "    <tr>\n",
       "      <th>1</th>\n",
       "      <td>190293.000</td>\n",
       "      <td>13.001</td>\n",
       "      <td>151.410</td>\n",
       "      <td>0.017</td>\n",
       "      <td>4.317</td>\n",
       "      <td>7.117</td>\n",
       "      <td>12.017</td>\n",
       "      <td>33603.733</td>\n",
       "    </tr>\n",
       "    <tr>\n",
       "      <th>2</th>\n",
       "      <td>190436.000</td>\n",
       "      <td>13.533</td>\n",
       "      <td>119.624</td>\n",
       "      <td>0.017</td>\n",
       "      <td>4.400</td>\n",
       "      <td>7.417</td>\n",
       "      <td>12.883</td>\n",
       "      <td>18865.767</td>\n",
       "    </tr>\n",
       "    <tr>\n",
       "      <th>3</th>\n",
       "      <td>258659.000</td>\n",
       "      <td>13.081</td>\n",
       "      <td>98.194</td>\n",
       "      <td>0.017</td>\n",
       "      <td>4.433</td>\n",
       "      <td>7.500</td>\n",
       "      <td>12.833</td>\n",
       "      <td>16808.067</td>\n",
       "    </tr>\n",
       "    <tr>\n",
       "      <th>4</th>\n",
       "      <td>426554.000</td>\n",
       "      <td>17.212</td>\n",
       "      <td>142.214</td>\n",
       "      <td>0.017</td>\n",
       "      <td>5.017</td>\n",
       "      <td>8.917</td>\n",
       "      <td>16.167</td>\n",
       "      <td>18395.483</td>\n",
       "    </tr>\n",
       "  </tbody>\n",
       "</table>\n",
       "</div>"
      ],
      "text/plain": [
       "                count   mean     std   min   25%   50%    75%       max\n",
       "started_at                                                             \n",
       "1          190293.000 13.001 151.410 0.017 4.317 7.117 12.017 33603.733\n",
       "2          190436.000 13.533 119.624 0.017 4.400 7.417 12.883 18865.767\n",
       "3          258659.000 13.081  98.194 0.017 4.433 7.500 12.833 16808.067\n",
       "4          426554.000 17.212 142.214 0.017 5.017 8.917 16.167 18395.483"
      ]
     },
     "execution_count": 16,
     "metadata": {},
     "output_type": "execute_result"
    }
   ],
   "source": [
    "# define the dataframe that is grouped by month\n",
    "df_3 = df_2.groupby(df_2['started_at'].dt.month)\n",
    "# statistical summary of duration in minutes\n",
    "df_3['duration (min)'].describe()"
   ]
  },
  {
   "cell_type": "markdown",
   "id": "87f9e624",
   "metadata": {
    "papermill": {
     "duration": 0.012578,
     "end_time": "2023-05-23T06:51:28.971933",
     "exception": false,
     "start_time": "2023-05-23T06:51:28.959355",
     "status": "completed"
    },
    "tags": []
   },
   "source": [
    "The standard deviation for monthly data is between **98 minutes** and **151 minutes**, meaning the usage of users is quite diverse. This indicates that there is a **significant variation** in the duration of trips taken by users on a monthly basis, with some users taking shorter trips around **98 minutes** and others taking longer trips up to **151 minutes**."
   ]
  },
  {
   "cell_type": "code",
   "execution_count": 17,
   "id": "2202fb60",
   "metadata": {
    "execution": {
     "iopub.execute_input": "2023-05-23T06:51:28.999371Z",
     "iopub.status.busy": "2023-05-23T06:51:28.999032Z",
     "iopub.status.idle": "2023-05-23T06:51:29.021713Z",
     "shell.execute_reply": "2023-05-23T06:51:29.020498Z"
    },
    "papermill": {
     "duration": 0.039505,
     "end_time": "2023-05-23T06:51:29.024102",
     "exception": false,
     "start_time": "2023-05-23T06:51:28.984597",
     "status": "completed"
    },
    "tags": []
   },
   "outputs": [
    {
     "data": {
      "text/plain": [
       "started_at\n",
       "1   23.336\n",
       "2   13.101\n",
       "3   11.672\n",
       "4   12.775\n",
       "Name: duration (min), dtype: float64"
      ]
     },
     "execution_count": 17,
     "metadata": {},
     "output_type": "execute_result"
    }
   ],
   "source": [
    "# Counting days for max \n",
    "df_3['duration (min)'].max()/(60*24)"
   ]
  },
  {
   "cell_type": "markdown",
   "id": "6cb3fe0c",
   "metadata": {
    "papermill": {
     "duration": 0.013692,
     "end_time": "2023-05-23T06:51:29.050675",
     "exception": false,
     "start_time": "2023-05-23T06:51:29.036983",
     "status": "completed"
    },
    "tags": []
   },
   "source": [
    "Based on monthly data, we can see that the maximum usage duration per each month is varied, with 23 days as maximum and 11 days as minimum usage. Right now, we'll see the comparison monthly based on type of users.\n"
   ]
  },
  {
   "cell_type": "code",
   "execution_count": 18,
   "id": "8bb87a47",
   "metadata": {
    "execution": {
     "iopub.execute_input": "2023-05-23T06:51:29.080374Z",
     "iopub.status.busy": "2023-05-23T06:51:29.080028Z",
     "iopub.status.idle": "2023-05-23T06:51:29.340356Z",
     "shell.execute_reply": "2023-05-23T06:51:29.338897Z"
    },
    "papermill": {
     "duration": 0.279477,
     "end_time": "2023-05-23T06:51:29.344095",
     "exception": false,
     "start_time": "2023-05-23T06:51:29.064618",
     "status": "completed"
    },
    "tags": []
   },
   "outputs": [
    {
     "data": {
      "text/html": [
       "<div>\n",
       "<style scoped>\n",
       "    .dataframe tbody tr th:only-of-type {\n",
       "        vertical-align: middle;\n",
       "    }\n",
       "\n",
       "    .dataframe tbody tr th {\n",
       "        vertical-align: top;\n",
       "    }\n",
       "\n",
       "    .dataframe thead th {\n",
       "        text-align: right;\n",
       "    }\n",
       "</style>\n",
       "<table border=\"1\" class=\"dataframe\">\n",
       "  <thead>\n",
       "    <tr style=\"text-align: right;\">\n",
       "      <th></th>\n",
       "      <th></th>\n",
       "      <th>count</th>\n",
       "      <th>mean</th>\n",
       "      <th>std</th>\n",
       "      <th>min</th>\n",
       "      <th>25%</th>\n",
       "      <th>50%</th>\n",
       "      <th>75%</th>\n",
       "      <th>max</th>\n",
       "    </tr>\n",
       "    <tr>\n",
       "      <th>started_at</th>\n",
       "      <th>member_casual</th>\n",
       "      <th></th>\n",
       "      <th></th>\n",
       "      <th></th>\n",
       "      <th></th>\n",
       "      <th></th>\n",
       "      <th></th>\n",
       "      <th></th>\n",
       "      <th></th>\n",
       "    </tr>\n",
       "  </thead>\n",
       "  <tbody>\n",
       "    <tr>\n",
       "      <th rowspan=\"2\" valign=\"top\">1</th>\n",
       "      <th>casual</th>\n",
       "      <td>40005.000</td>\n",
       "      <td>22.917</td>\n",
       "      <td>325.234</td>\n",
       "      <td>0.017</td>\n",
       "      <td>4.783</td>\n",
       "      <td>7.767</td>\n",
       "      <td>13.300</td>\n",
       "      <td>33603.733</td>\n",
       "    </tr>\n",
       "    <tr>\n",
       "      <th>member</th>\n",
       "      <td>150288.000</td>\n",
       "      <td>10.362</td>\n",
       "      <td>28.953</td>\n",
       "      <td>0.017</td>\n",
       "      <td>4.217</td>\n",
       "      <td>6.950</td>\n",
       "      <td>11.700</td>\n",
       "      <td>1499.933</td>\n",
       "    </tr>\n",
       "    <tr>\n",
       "      <th rowspan=\"2\" valign=\"top\">2</th>\n",
       "      <th>casual</th>\n",
       "      <td>43014.000</td>\n",
       "      <td>23.194</td>\n",
       "      <td>245.705</td>\n",
       "      <td>0.033</td>\n",
       "      <td>5.150</td>\n",
       "      <td>8.683</td>\n",
       "      <td>15.767</td>\n",
       "      <td>18865.767</td>\n",
       "    </tr>\n",
       "    <tr>\n",
       "      <th>member</th>\n",
       "      <td>147422.000</td>\n",
       "      <td>10.715</td>\n",
       "      <td>28.910</td>\n",
       "      <td>0.017</td>\n",
       "      <td>4.233</td>\n",
       "      <td>7.083</td>\n",
       "      <td>12.167</td>\n",
       "      <td>1499.933</td>\n",
       "    </tr>\n",
       "    <tr>\n",
       "      <th rowspan=\"2\" valign=\"top\">3</th>\n",
       "      <th>casual</th>\n",
       "      <td>62194.000</td>\n",
       "      <td>21.415</td>\n",
       "      <td>194.271</td>\n",
       "      <td>0.017</td>\n",
       "      <td>5.133</td>\n",
       "      <td>8.667</td>\n",
       "      <td>15.517</td>\n",
       "      <td>16808.067</td>\n",
       "    </tr>\n",
       "    <tr>\n",
       "      <th>member</th>\n",
       "      <td>196465.000</td>\n",
       "      <td>10.443</td>\n",
       "      <td>26.799</td>\n",
       "      <td>0.017</td>\n",
       "      <td>4.250</td>\n",
       "      <td>7.150</td>\n",
       "      <td>12.117</td>\n",
       "      <td>1559.667</td>\n",
       "    </tr>\n",
       "    <tr>\n",
       "      <th rowspan=\"2\" valign=\"top\">4</th>\n",
       "      <th>casual</th>\n",
       "      <td>147269.000</td>\n",
       "      <td>27.676</td>\n",
       "      <td>238.718</td>\n",
       "      <td>0.017</td>\n",
       "      <td>6.200</td>\n",
       "      <td>11.283</td>\n",
       "      <td>21.983</td>\n",
       "      <td>18395.483</td>\n",
       "    </tr>\n",
       "    <tr>\n",
       "      <th>member</th>\n",
       "      <td>279285.000</td>\n",
       "      <td>11.695</td>\n",
       "      <td>27.427</td>\n",
       "      <td>0.017</td>\n",
       "      <td>4.583</td>\n",
       "      <td>7.983</td>\n",
       "      <td>13.867</td>\n",
       "      <td>1499.933</td>\n",
       "    </tr>\n",
       "  </tbody>\n",
       "</table>\n",
       "</div>"
      ],
      "text/plain": [
       "                              count   mean     std   min   25%    50%    75%  \\\n",
       "started_at member_casual                                                       \n",
       "1          casual         40005.000 22.917 325.234 0.017 4.783  7.767 13.300   \n",
       "           member        150288.000 10.362  28.953 0.017 4.217  6.950 11.700   \n",
       "2          casual         43014.000 23.194 245.705 0.033 5.150  8.683 15.767   \n",
       "           member        147422.000 10.715  28.910 0.017 4.233  7.083 12.167   \n",
       "3          casual         62194.000 21.415 194.271 0.017 5.133  8.667 15.517   \n",
       "           member        196465.000 10.443  26.799 0.017 4.250  7.150 12.117   \n",
       "4          casual        147269.000 27.676 238.718 0.017 6.200 11.283 21.983   \n",
       "           member        279285.000 11.695  27.427 0.017 4.583  7.983 13.867   \n",
       "\n",
       "                               max  \n",
       "started_at member_casual            \n",
       "1          casual        33603.733  \n",
       "           member         1499.933  \n",
       "2          casual        18865.767  \n",
       "           member         1499.933  \n",
       "3          casual        16808.067  \n",
       "           member         1559.667  \n",
       "4          casual        18395.483  \n",
       "           member         1499.933  "
      ]
     },
     "execution_count": 18,
     "metadata": {},
     "output_type": "execute_result"
    }
   ],
   "source": [
    "# data is grouped by month and type of users\n",
    "df_4 = df_2.groupby([df_2['started_at'].dt.month, 'member_casual'])\n",
    "df_4['duration (min)'].describe()\n"
   ]
  },
  {
   "cell_type": "markdown",
   "id": "19e16777",
   "metadata": {
    "papermill": {
     "duration": 0.013289,
     "end_time": "2023-05-23T06:51:29.373525",
     "exception": false,
     "start_time": "2023-05-23T06:51:29.360236",
     "status": "completed"
    },
    "tags": []
   },
   "source": [
    "Based on previous data, we see that casual users tends to use longer than member users with the average of casual user is longer than **20 minutes**, meanwhile the member users is approximately **10 minutes**.\n",
    "But, we can also see that the member users is higher than the casual users.\n",
    "Next, we'll move to the preferences of bike that the users use.\n"
   ]
  },
  {
   "cell_type": "code",
   "execution_count": 19,
   "id": "bdf95290",
   "metadata": {
    "execution": {
     "iopub.execute_input": "2023-05-23T06:51:29.403972Z",
     "iopub.status.busy": "2023-05-23T06:51:29.403626Z",
     "iopub.status.idle": "2023-05-23T06:51:29.775827Z",
     "shell.execute_reply": "2023-05-23T06:51:29.774657Z"
    },
    "papermill": {
     "duration": 0.389148,
     "end_time": "2023-05-23T06:51:29.777588",
     "exception": false,
     "start_time": "2023-05-23T06:51:29.388440",
     "status": "completed"
    },
    "tags": []
   },
   "outputs": [
    {
     "data": {
      "text/html": [
       "<div>\n",
       "<style scoped>\n",
       "    .dataframe tbody tr th:only-of-type {\n",
       "        vertical-align: middle;\n",
       "    }\n",
       "\n",
       "    .dataframe tbody tr th {\n",
       "        vertical-align: top;\n",
       "    }\n",
       "\n",
       "    .dataframe thead th {\n",
       "        text-align: right;\n",
       "    }\n",
       "</style>\n",
       "<table border=\"1\" class=\"dataframe\">\n",
       "  <thead>\n",
       "    <tr style=\"text-align: right;\">\n",
       "      <th></th>\n",
       "      <th></th>\n",
       "      <th></th>\n",
       "      <th>count</th>\n",
       "      <th>mean</th>\n",
       "      <th>std</th>\n",
       "      <th>min</th>\n",
       "      <th>25%</th>\n",
       "      <th>50%</th>\n",
       "      <th>75%</th>\n",
       "      <th>max</th>\n",
       "    </tr>\n",
       "    <tr>\n",
       "      <th>started_at</th>\n",
       "      <th>member_casual</th>\n",
       "      <th>rideable_type</th>\n",
       "      <th></th>\n",
       "      <th></th>\n",
       "      <th></th>\n",
       "      <th></th>\n",
       "      <th></th>\n",
       "      <th></th>\n",
       "      <th></th>\n",
       "      <th></th>\n",
       "    </tr>\n",
       "  </thead>\n",
       "  <tbody>\n",
       "    <tr>\n",
       "      <th rowspan=\"5\" valign=\"top\">1</th>\n",
       "      <th rowspan=\"3\" valign=\"top\">casual</th>\n",
       "      <th>classic_bike</th>\n",
       "      <td>13909.000</td>\n",
       "      <td>22.452</td>\n",
       "      <td>101.887</td>\n",
       "      <td>0.033</td>\n",
       "      <td>5.450</td>\n",
       "      <td>8.850</td>\n",
       "      <td>15.383</td>\n",
       "      <td>1499.950</td>\n",
       "    </tr>\n",
       "    <tr>\n",
       "      <th>docked_bike</th>\n",
       "      <td>1738.000</td>\n",
       "      <td>212.103</td>\n",
       "      <td>1520.774</td>\n",
       "      <td>0.033</td>\n",
       "      <td>10.804</td>\n",
       "      <td>18.967</td>\n",
       "      <td>30.188</td>\n",
       "      <td>33603.733</td>\n",
       "    </tr>\n",
       "    <tr>\n",
       "      <th>electric_bike</th>\n",
       "      <td>24358.000</td>\n",
       "      <td>9.683</td>\n",
       "      <td>11.801</td>\n",
       "      <td>0.017</td>\n",
       "      <td>4.317</td>\n",
       "      <td>6.917</td>\n",
       "      <td>11.267</td>\n",
       "      <td>479.933</td>\n",
       "    </tr>\n",
       "    <tr>\n",
       "      <th rowspan=\"2\" valign=\"top\">member</th>\n",
       "      <th>classic_bike</th>\n",
       "      <td>76385.000</td>\n",
       "      <td>11.179</td>\n",
       "      <td>36.990</td>\n",
       "      <td>0.017</td>\n",
       "      <td>4.500</td>\n",
       "      <td>7.367</td>\n",
       "      <td>12.467</td>\n",
       "      <td>1499.933</td>\n",
       "    </tr>\n",
       "    <tr>\n",
       "      <th>electric_bike</th>\n",
       "      <td>73903.000</td>\n",
       "      <td>9.518</td>\n",
       "      <td>17.003</td>\n",
       "      <td>0.017</td>\n",
       "      <td>3.950</td>\n",
       "      <td>6.533</td>\n",
       "      <td>10.983</td>\n",
       "      <td>479.967</td>\n",
       "    </tr>\n",
       "    <tr>\n",
       "      <th rowspan=\"5\" valign=\"top\">2</th>\n",
       "      <th rowspan=\"3\" valign=\"top\">casual</th>\n",
       "      <th>classic_bike</th>\n",
       "      <td>15534.000</td>\n",
       "      <td>25.137</td>\n",
       "      <td>102.060</td>\n",
       "      <td>0.033</td>\n",
       "      <td>5.938</td>\n",
       "      <td>10.083</td>\n",
       "      <td>18.967</td>\n",
       "      <td>1499.933</td>\n",
       "    </tr>\n",
       "    <tr>\n",
       "      <th>docked_bike</th>\n",
       "      <td>2195.000</td>\n",
       "      <td>150.828</td>\n",
       "      <td>1044.032</td>\n",
       "      <td>0.050</td>\n",
       "      <td>12.817</td>\n",
       "      <td>22.817</td>\n",
       "      <td>41.667</td>\n",
       "      <td>18865.767</td>\n",
       "    </tr>\n",
       "    <tr>\n",
       "      <th>electric_bike</th>\n",
       "      <td>25285.000</td>\n",
       "      <td>10.919</td>\n",
       "      <td>12.327</td>\n",
       "      <td>0.033</td>\n",
       "      <td>4.583</td>\n",
       "      <td>7.533</td>\n",
       "      <td>12.733</td>\n",
       "      <td>322.617</td>\n",
       "    </tr>\n",
       "    <tr>\n",
       "      <th rowspan=\"2\" valign=\"top\">member</th>\n",
       "      <th>classic_bike</th>\n",
       "      <td>74351.000</td>\n",
       "      <td>11.607</td>\n",
       "      <td>37.214</td>\n",
       "      <td>0.017</td>\n",
       "      <td>4.500</td>\n",
       "      <td>7.517</td>\n",
       "      <td>13.017</td>\n",
       "      <td>1499.933</td>\n",
       "    </tr>\n",
       "    <tr>\n",
       "      <th>electric_bike</th>\n",
       "      <td>73071.000</td>\n",
       "      <td>9.807</td>\n",
       "      <td>16.596</td>\n",
       "      <td>0.017</td>\n",
       "      <td>3.983</td>\n",
       "      <td>6.683</td>\n",
       "      <td>11.383</td>\n",
       "      <td>481.367</td>\n",
       "    </tr>\n",
       "    <tr>\n",
       "      <th rowspan=\"5\" valign=\"top\">3</th>\n",
       "      <th rowspan=\"3\" valign=\"top\">casual</th>\n",
       "      <th>classic_bike</th>\n",
       "      <td>19456.000</td>\n",
       "      <td>26.007</td>\n",
       "      <td>107.422</td>\n",
       "      <td>0.033</td>\n",
       "      <td>6.167</td>\n",
       "      <td>10.600</td>\n",
       "      <td>19.583</td>\n",
       "      <td>1559.933</td>\n",
       "    </tr>\n",
       "    <tr>\n",
       "      <th>docked_bike</th>\n",
       "      <td>3020.000</td>\n",
       "      <td>132.377</td>\n",
       "      <td>828.994</td>\n",
       "      <td>0.083</td>\n",
       "      <td>12.100</td>\n",
       "      <td>21.517</td>\n",
       "      <td>38.242</td>\n",
       "      <td>16808.067</td>\n",
       "    </tr>\n",
       "    <tr>\n",
       "      <th>electric_bike</th>\n",
       "      <td>39718.000</td>\n",
       "      <td>10.728</td>\n",
       "      <td>12.135</td>\n",
       "      <td>0.017</td>\n",
       "      <td>4.633</td>\n",
       "      <td>7.567</td>\n",
       "      <td>12.700</td>\n",
       "      <td>479.867</td>\n",
       "    </tr>\n",
       "    <tr>\n",
       "      <th rowspan=\"2\" valign=\"top\">member</th>\n",
       "      <th>classic_bike</th>\n",
       "      <td>87626.000</td>\n",
       "      <td>11.702</td>\n",
       "      <td>36.871</td>\n",
       "      <td>0.017</td>\n",
       "      <td>4.550</td>\n",
       "      <td>7.700</td>\n",
       "      <td>13.300</td>\n",
       "      <td>1559.667</td>\n",
       "    </tr>\n",
       "    <tr>\n",
       "      <th>electric_bike</th>\n",
       "      <td>108839.000</td>\n",
       "      <td>9.429</td>\n",
       "      <td>14.128</td>\n",
       "      <td>0.017</td>\n",
       "      <td>4.017</td>\n",
       "      <td>6.750</td>\n",
       "      <td>11.283</td>\n",
       "      <td>480.450</td>\n",
       "    </tr>\n",
       "    <tr>\n",
       "      <th rowspan=\"5\" valign=\"top\">4</th>\n",
       "      <th rowspan=\"3\" valign=\"top\">casual</th>\n",
       "      <th>classic_bike</th>\n",
       "      <td>48896.000</td>\n",
       "      <td>31.292</td>\n",
       "      <td>104.133</td>\n",
       "      <td>0.017</td>\n",
       "      <td>7.850</td>\n",
       "      <td>14.333</td>\n",
       "      <td>28.233</td>\n",
       "      <td>1499.950</td>\n",
       "    </tr>\n",
       "    <tr>\n",
       "      <th>docked_bike</th>\n",
       "      <td>8887.000</td>\n",
       "      <td>143.708</td>\n",
       "      <td>930.804</td>\n",
       "      <td>0.033</td>\n",
       "      <td>15.817</td>\n",
       "      <td>28.367</td>\n",
       "      <td>56.867</td>\n",
       "      <td>18395.483</td>\n",
       "    </tr>\n",
       "    <tr>\n",
       "      <th>electric_bike</th>\n",
       "      <td>89486.000</td>\n",
       "      <td>14.176</td>\n",
       "      <td>17.262</td>\n",
       "      <td>0.017</td>\n",
       "      <td>5.333</td>\n",
       "      <td>9.283</td>\n",
       "      <td>16.783</td>\n",
       "      <td>480.450</td>\n",
       "    </tr>\n",
       "    <tr>\n",
       "      <th rowspan=\"2\" valign=\"top\">member</th>\n",
       "      <th>classic_bike</th>\n",
       "      <td>120836.000</td>\n",
       "      <td>13.384</td>\n",
       "      <td>38.196</td>\n",
       "      <td>0.017</td>\n",
       "      <td>5.017</td>\n",
       "      <td>8.733</td>\n",
       "      <td>15.617</td>\n",
       "      <td>1499.933</td>\n",
       "    </tr>\n",
       "    <tr>\n",
       "      <th>electric_bike</th>\n",
       "      <td>158449.000</td>\n",
       "      <td>10.406</td>\n",
       "      <td>14.472</td>\n",
       "      <td>0.017</td>\n",
       "      <td>4.283</td>\n",
       "      <td>7.467</td>\n",
       "      <td>12.683</td>\n",
       "      <td>481.400</td>\n",
       "    </tr>\n",
       "  </tbody>\n",
       "</table>\n",
       "</div>"
      ],
      "text/plain": [
       "                                            count    mean      std   min  \\\n",
       "started_at member_casual rideable_type                                     \n",
       "1          casual        classic_bike   13909.000  22.452  101.887 0.033   \n",
       "                         docked_bike     1738.000 212.103 1520.774 0.033   \n",
       "                         electric_bike  24358.000   9.683   11.801 0.017   \n",
       "           member        classic_bike   76385.000  11.179   36.990 0.017   \n",
       "                         electric_bike  73903.000   9.518   17.003 0.017   \n",
       "2          casual        classic_bike   15534.000  25.137  102.060 0.033   \n",
       "                         docked_bike     2195.000 150.828 1044.032 0.050   \n",
       "                         electric_bike  25285.000  10.919   12.327 0.033   \n",
       "           member        classic_bike   74351.000  11.607   37.214 0.017   \n",
       "                         electric_bike  73071.000   9.807   16.596 0.017   \n",
       "3          casual        classic_bike   19456.000  26.007  107.422 0.033   \n",
       "                         docked_bike     3020.000 132.377  828.994 0.083   \n",
       "                         electric_bike  39718.000  10.728   12.135 0.017   \n",
       "           member        classic_bike   87626.000  11.702   36.871 0.017   \n",
       "                         electric_bike 108839.000   9.429   14.128 0.017   \n",
       "4          casual        classic_bike   48896.000  31.292  104.133 0.017   \n",
       "                         docked_bike     8887.000 143.708  930.804 0.033   \n",
       "                         electric_bike  89486.000  14.176   17.262 0.017   \n",
       "           member        classic_bike  120836.000  13.384   38.196 0.017   \n",
       "                         electric_bike 158449.000  10.406   14.472 0.017   \n",
       "\n",
       "                                          25%    50%    75%       max  \n",
       "started_at member_casual rideable_type                                 \n",
       "1          casual        classic_bike   5.450  8.850 15.383  1499.950  \n",
       "                         docked_bike   10.804 18.967 30.188 33603.733  \n",
       "                         electric_bike  4.317  6.917 11.267   479.933  \n",
       "           member        classic_bike   4.500  7.367 12.467  1499.933  \n",
       "                         electric_bike  3.950  6.533 10.983   479.967  \n",
       "2          casual        classic_bike   5.938 10.083 18.967  1499.933  \n",
       "                         docked_bike   12.817 22.817 41.667 18865.767  \n",
       "                         electric_bike  4.583  7.533 12.733   322.617  \n",
       "           member        classic_bike   4.500  7.517 13.017  1499.933  \n",
       "                         electric_bike  3.983  6.683 11.383   481.367  \n",
       "3          casual        classic_bike   6.167 10.600 19.583  1559.933  \n",
       "                         docked_bike   12.100 21.517 38.242 16808.067  \n",
       "                         electric_bike  4.633  7.567 12.700   479.867  \n",
       "           member        classic_bike   4.550  7.700 13.300  1559.667  \n",
       "                         electric_bike  4.017  6.750 11.283   480.450  \n",
       "4          casual        classic_bike   7.850 14.333 28.233  1499.950  \n",
       "                         docked_bike   15.817 28.367 56.867 18395.483  \n",
       "                         electric_bike  5.333  9.283 16.783   480.450  \n",
       "           member        classic_bike   5.017  8.733 15.617  1499.933  \n",
       "                         electric_bike  4.283  7.467 12.683   481.400  "
      ]
     },
     "execution_count": 19,
     "metadata": {},
     "output_type": "execute_result"
    }
   ],
   "source": [
    "df_5 = df_2.groupby([df_2['started_at'].dt.month, 'member_casual','rideable_type'])\n",
    "df_5['duration (min)'].describe()\n"
   ]
  },
  {
   "cell_type": "markdown",
   "id": "48b3a0b7",
   "metadata": {
    "papermill": {
     "duration": 0.012792,
     "end_time": "2023-05-23T06:51:29.804001",
     "exception": false,
     "start_time": "2023-05-23T06:51:29.791209",
     "status": "completed"
    },
    "tags": []
   },
   "source": [
    "Based on the previous data, we know that the casual users use all of three types of bike, they are classic, docked, and electric bike. However, the member users only use two types of bike, they are classic and electric bike. So, we finish with montly data, next we move to the same day trip data."
   ]
  },
  {
   "cell_type": "markdown",
   "id": "b012833d",
   "metadata": {
    "papermill": {
     "duration": 0.012997,
     "end_time": "2023-05-23T06:51:29.830069",
     "exception": false,
     "start_time": "2023-05-23T06:51:29.817072",
     "status": "completed"
    },
    "tags": []
   },
   "source": [
    "# **The same Day Trip Analysis**"
   ]
  },
  {
   "cell_type": "code",
   "execution_count": 20,
   "id": "a41ad551",
   "metadata": {
    "execution": {
     "iopub.execute_input": "2023-05-23T06:51:29.865656Z",
     "iopub.status.busy": "2023-05-23T06:51:29.865230Z",
     "iopub.status.idle": "2023-05-23T06:51:30.893082Z",
     "shell.execute_reply": "2023-05-23T06:51:30.891487Z"
    },
    "papermill": {
     "duration": 1.049732,
     "end_time": "2023-05-23T06:51:30.896004",
     "exception": false,
     "start_time": "2023-05-23T06:51:29.846272",
     "status": "completed"
    },
    "tags": []
   },
   "outputs": [
    {
     "data": {
      "text/html": [
       "<div>\n",
       "<style scoped>\n",
       "    .dataframe tbody tr th:only-of-type {\n",
       "        vertical-align: middle;\n",
       "    }\n",
       "\n",
       "    .dataframe tbody tr th {\n",
       "        vertical-align: top;\n",
       "    }\n",
       "\n",
       "    .dataframe thead th {\n",
       "        text-align: right;\n",
       "    }\n",
       "</style>\n",
       "<table border=\"1\" class=\"dataframe\">\n",
       "  <thead>\n",
       "    <tr style=\"text-align: right;\">\n",
       "      <th></th>\n",
       "      <th></th>\n",
       "      <th>count</th>\n",
       "      <th>mean</th>\n",
       "      <th>std</th>\n",
       "      <th>min</th>\n",
       "      <th>25%</th>\n",
       "      <th>50%</th>\n",
       "      <th>75%</th>\n",
       "      <th>max</th>\n",
       "    </tr>\n",
       "    <tr>\n",
       "      <th>member_casual</th>\n",
       "      <th>rideable_type</th>\n",
       "      <th></th>\n",
       "      <th></th>\n",
       "      <th></th>\n",
       "      <th></th>\n",
       "      <th></th>\n",
       "      <th></th>\n",
       "      <th></th>\n",
       "      <th></th>\n",
       "    </tr>\n",
       "  </thead>\n",
       "  <tbody>\n",
       "    <tr>\n",
       "      <th rowspan=\"3\" valign=\"top\">casual</th>\n",
       "      <th>classic_bike</th>\n",
       "      <td>96811.000</td>\n",
       "      <td>20.492</td>\n",
       "      <td>31.725</td>\n",
       "      <td>0.017</td>\n",
       "      <td>6.600</td>\n",
       "      <td>11.683</td>\n",
       "      <td>22.567</td>\n",
       "      <td>1372.950</td>\n",
       "    </tr>\n",
       "    <tr>\n",
       "      <th>docked_bike</th>\n",
       "      <td>15296.000</td>\n",
       "      <td>39.141</td>\n",
       "      <td>50.124</td>\n",
       "      <td>0.033</td>\n",
       "      <td>13.333</td>\n",
       "      <td>24.217</td>\n",
       "      <td>43.946</td>\n",
       "      <td>1023.933</td>\n",
       "    </tr>\n",
       "    <tr>\n",
       "      <th>electric_bike</th>\n",
       "      <td>178210.000</td>\n",
       "      <td>12.255</td>\n",
       "      <td>14.563</td>\n",
       "      <td>0.017</td>\n",
       "      <td>4.867</td>\n",
       "      <td>8.200</td>\n",
       "      <td>14.367</td>\n",
       "      <td>479.967</td>\n",
       "    </tr>\n",
       "    <tr>\n",
       "      <th rowspan=\"2\" valign=\"top\">member</th>\n",
       "      <th>classic_bike</th>\n",
       "      <td>358364.000</td>\n",
       "      <td>11.178</td>\n",
       "      <td>13.209</td>\n",
       "      <td>0.017</td>\n",
       "      <td>4.650</td>\n",
       "      <td>7.883</td>\n",
       "      <td>13.767</td>\n",
       "      <td>1139.750</td>\n",
       "    </tr>\n",
       "    <tr>\n",
       "      <th>electric_bike</th>\n",
       "      <td>413443.000</td>\n",
       "      <td>9.814</td>\n",
       "      <td>14.601</td>\n",
       "      <td>0.017</td>\n",
       "      <td>4.083</td>\n",
       "      <td>6.950</td>\n",
       "      <td>11.767</td>\n",
       "      <td>480.450</td>\n",
       "    </tr>\n",
       "  </tbody>\n",
       "</table>\n",
       "</div>"
      ],
      "text/plain": [
       "                                 count   mean    std   min    25%    50%  \\\n",
       "member_casual rideable_type                                                \n",
       "casual        classic_bike   96811.000 20.492 31.725 0.017  6.600 11.683   \n",
       "              docked_bike    15296.000 39.141 50.124 0.033 13.333 24.217   \n",
       "              electric_bike 178210.000 12.255 14.563 0.017  4.867  8.200   \n",
       "member        classic_bike  358364.000 11.178 13.209 0.017  4.650  7.883   \n",
       "              electric_bike 413443.000  9.814 14.601 0.017  4.083  6.950   \n",
       "\n",
       "                               75%      max  \n",
       "member_casual rideable_type                  \n",
       "casual        classic_bike  22.567 1372.950  \n",
       "              docked_bike   43.946 1023.933  \n",
       "              electric_bike 14.367  479.967  \n",
       "member        classic_bike  13.767 1139.750  \n",
       "              electric_bike 11.767  480.450  "
      ]
     },
     "execution_count": 20,
     "metadata": {},
     "output_type": "execute_result"
    }
   ],
   "source": [
    "# define new dataset same_day_trips for the same day trip\n",
    "df_4 = df_2[df_2['started_at'].dt.date == df_2['ended_at'].dt.date]\n",
    "df_5=df_4.groupby([df_2['member_casual'],df_2['rideable_type']])\n",
    "df_5['duration (min)'].describe()\n"
   ]
  },
  {
   "cell_type": "markdown",
   "id": "fc9525bb",
   "metadata": {
    "papermill": {
     "duration": 0.018738,
     "end_time": "2023-05-23T06:51:30.932745",
     "exception": false,
     "start_time": "2023-05-23T06:51:30.914007",
     "status": "completed"
    },
    "tags": []
   },
   "source": [
    "For the same day trip, surprisingly we still get the same result that overall casual users is use bike longer than member users with the maximum of **1372 minutes**, approximately 23 hours, meanwhile the maximum of member users is **1139 minutes**, approximately 19 hours, so there's a four hour gap between them."
   ]
  },
  {
   "cell_type": "markdown",
   "id": "e2bb8e22",
   "metadata": {
    "papermill": {
     "duration": 0.01793,
     "end_time": "2023-05-23T06:51:30.967263",
     "exception": false,
     "start_time": "2023-05-23T06:51:30.949333",
     "status": "completed"
    },
    "tags": []
   },
   "source": [
    " "
   ]
  },
  {
   "cell_type": "markdown",
   "id": "e0d88270",
   "metadata": {
    "papermill": {
     "duration": 0.01525,
     "end_time": "2023-05-23T06:51:30.998720",
     "exception": false,
     "start_time": "2023-05-23T06:51:30.983470",
     "status": "completed"
    },
    "tags": []
   },
   "source": [
    "# **Data Visualization and Recommendation**"
   ]
  },
  {
   "cell_type": "markdown",
   "id": "6dd93803",
   "metadata": {
    "papermill": {
     "duration": 0.017245,
     "end_time": "2023-05-23T06:51:31.032157",
     "exception": false,
     "start_time": "2023-05-23T06:51:31.014912",
     "status": "completed"
    },
    "tags": []
   },
   "source": [
    "Let's make our analysis deeper with Data Visualization. First, let's see user trend by Month that are splitted to casual users and member users using line chart."
   ]
  },
  {
   "cell_type": "code",
   "execution_count": 21,
   "id": "6c97fa9e",
   "metadata": {
    "execution": {
     "iopub.execute_input": "2023-05-23T06:51:31.079181Z",
     "iopub.status.busy": "2023-05-23T06:51:31.078032Z",
     "iopub.status.idle": "2023-05-23T06:51:31.472389Z",
     "shell.execute_reply": "2023-05-23T06:51:31.470102Z"
    },
    "papermill": {
     "duration": 0.423155,
     "end_time": "2023-05-23T06:51:31.476010",
     "exception": false,
     "start_time": "2023-05-23T06:51:31.052855",
     "status": "completed"
    },
    "tags": []
   },
   "outputs": [
    {
     "data": {
      "image/png": "[encoded data removed]",
      "text/plain": [
       "<Figure size 640x480 with 1 Axes>"
      ]
     },
     "metadata": {},
     "output_type": "display_data"
    }
   ],
   "source": [
    "import calendar\n",
    "\n",
    "df_2['started_at'] = pd.to_datetime(df_2['started_at'])\n",
    "\n",
    "# Group the data by month and member_casual, and calculate the count\n",
    "grouped = df_2.groupby([df_2['started_at'].dt.month, 'member_casual']).size()\n",
    "df_grouped = grouped.reset_index(name='count')\n",
    "\n",
    "# Create a figure and axis\n",
    "fig, ax = plt.subplots()\n",
    "\n",
    "# Filter the data for member users\n",
    "df_member = df_grouped[df_grouped['member_casual'] == 'member']\n",
    "ax.plot(df_member['started_at'], df_member['count'], marker='o', linestyle='-', label='Member Users')\n",
    "\n",
    "# Filter the data for casual users\n",
    "df_casual = df_grouped[df_grouped['member_casual'] == 'casual']\n",
    "ax.plot(df_casual['started_at'], df_casual['count'], marker='o', linestyle='-', label='Casual Users')\n",
    "\n",
    "# Add labels and title\n",
    "ax.set_xlabel('Month')\n",
    "ax.set_ylabel('Count')\n",
    "ax.set_title('Number of Users per Month')\n",
    "\n",
    "# Get month labels\n",
    "month_labels = [calendar.month_name[i] for i in df_grouped['started_at'].unique()]\n",
    "\n",
    "# Set x-axis tick labels\n",
    "ax.set_xticks(df_grouped['started_at'].unique())\n",
    "ax.set_xticklabels(month_labels, rotation=45)\n",
    "\n",
    "# Add labels to the line chart for member users\n",
    "for i, count in enumerate(df_member['count']):\n",
    "    ax.text(df_member['started_at'].iloc[i], count, str(count), ha='center', va='bottom')\n",
    "\n",
    "# Add labels to the line chart for casual users\n",
    "for i, count in enumerate(df_casual['count']):\n",
    "    ax.text(df_casual['started_at'].iloc[i], count, str(count), ha='center', va='bottom')\n",
    "\n",
    "# Show the plot\n",
    "plt.legend()\n",
    "plt.show()\n"
   ]
  },
  {
   "cell_type": "markdown",
   "id": "0c68f530",
   "metadata": {
    "papermill": {
     "duration": 0.016866,
     "end_time": "2023-05-23T06:51:31.511043",
     "exception": false,
     "start_time": "2023-05-23T06:51:31.494177",
     "status": "completed"
    },
    "tags": []
   },
   "source": [
    "As we can see, the overall trend of users is **increasing** every months from January to April except from member users from January to April, and from March to April is a huge difference whether it's member users or casual users. From that insight, we can investigate and research why there's a huge difference from March to April, hopefully there will be a good news. \n",
    "Let's see the comparison of type of users and the type of bike."
   ]
  },
  {
   "cell_type": "code",
   "execution_count": 22,
   "id": "56dbb7f7",
   "metadata": {
    "execution": {
     "iopub.execute_input": "2023-05-23T06:51:31.549782Z",
     "iopub.status.busy": "2023-05-23T06:51:31.549351Z",
     "iopub.status.idle": "2023-05-23T06:51:31.763888Z",
     "shell.execute_reply": "2023-05-23T06:51:31.762983Z"
    },
    "papermill": {
     "duration": 0.237546,
     "end_time": "2023-05-23T06:51:31.765820",
     "exception": false,
     "start_time": "2023-05-23T06:51:31.528274",
     "status": "completed"
    },
    "tags": []
   },
   "outputs": [
    {
     "data": {
      "image/png": "[encoded data removed]",
      "text/plain": [
       "<Figure size 640x480 with 1 Axes>"
      ]
     },
     "metadata": {},
     "output_type": "display_data"
    }
   ],
   "source": [
    "# Comparison of type of users\n",
    "\n",
    "grouped = df.groupby('member_casual').size()\n",
    "df_grouped = grouped.reset_index(name='count')\n",
    "\n",
    "# Create a bar chart\n",
    "plt.bar(df_grouped['member_casual'], df_grouped['count'])\n",
    "\n",
    "# Add labels and title\n",
    "plt.xlabel('User Type')\n",
    "plt.ylabel('Count')\n",
    "plt.title('Total Number of Users')\n",
    "for i, count in enumerate(df_grouped['count']):\n",
    "    plt.text(i, count, str(count), ha='center', va='bottom')\n",
    "\n",
    "# Show the plot\n",
    "plt.show()"
   ]
  },
  {
   "cell_type": "markdown",
   "id": "94122dbb",
   "metadata": {
    "papermill": {
     "duration": 0.014526,
     "end_time": "2023-05-23T06:51:31.795417",
     "exception": false,
     "start_time": "2023-05-23T06:51:31.780891",
     "status": "completed"
    },
    "tags": []
   },
   "source": [
    "The member users is still higher than casual users overall with member users is almost 3 times than casual users. From this insight, we can also investigate why there's a huge difference from these users, and from that maybe we can get actionabale insight for business."
   ]
  },
  {
   "cell_type": "code",
   "execution_count": 23,
   "id": "4d2e6a4e",
   "metadata": {
    "execution": {
     "iopub.execute_input": "2023-05-23T06:51:31.827358Z",
     "iopub.status.busy": "2023-05-23T06:51:31.826966Z",
     "iopub.status.idle": "2023-05-23T06:51:32.201080Z",
     "shell.execute_reply": "2023-05-23T06:51:32.199512Z"
    },
    "papermill": {
     "duration": 0.392989,
     "end_time": "2023-05-23T06:51:32.203461",
     "exception": false,
     "start_time": "2023-05-23T06:51:31.810472",
     "status": "completed"
    },
    "tags": []
   },
   "outputs": [
    {
     "data": {
      "image/png": "[encoded data removed]",
      "text/plain": [
       "<Figure size 640x480 with 1 Axes>"
      ]
     },
     "metadata": {},
     "output_type": "display_data"
    }
   ],
   "source": [
    "# Comparison of type of bike usage\n",
    "\n",
    "# Group the data by rideable_type and calculate the count\n",
    "grouped = df.groupby('rideable_type').size()\n",
    "df_grouped = grouped.reset_index(name='count')\n",
    "\n",
    "# Sort the data in ascending order based on the count\n",
    "df_grouped = df_grouped.sort_values('count', ascending=True)\n",
    "\n",
    "# Create a bar chart\n",
    "plt.bar(df_grouped['rideable_type'], df_grouped['count'])\n",
    "\n",
    "# Add labels and title\n",
    "plt.xlabel('Bike Type')\n",
    "plt.ylabel('Count')\n",
    "plt.title('Total Usage by Bike Type (Ascending)')\n",
    "\n",
    "# Add labels for each bar\n",
    "for i, count in enumerate(df_grouped['count']):\n",
    "    plt.text(i, count, str(count), ha='center', va='bottom')\n",
    "\n",
    "# Rotate x-axis labels if needed\n",
    "plt.xticks(rotation=45)\n",
    "\n",
    "# Show the plot\n",
    "plt.show()\n"
   ]
  },
  {
   "cell_type": "markdown",
   "id": "12e134d3",
   "metadata": {
    "papermill": {
     "duration": 0.014585,
     "end_time": "2023-05-23T06:51:32.233219",
     "exception": false,
     "start_time": "2023-05-23T06:51:32.218634",
     "status": "completed"
    },
    "tags": []
   },
   "source": [
    "Next, we want to know the distribution of duration usage per months using box plots.As we can see, the there are huge differences between docked bike and another type of bike. From that insight, maybe we'll have the insight of bike trend, why people choose electric bike and still love classic bike but prefer not to choose docked bike? Is it a seasonable trend or not? From that, the data analyst can compare the trend from the older data so they can have assumption that the difference is only because seasonal trend or even have the prospective value."
   ]
  },
  {
   "cell_type": "code",
   "execution_count": 24,
   "id": "32d186f5",
   "metadata": {
    "execution": {
     "iopub.execute_input": "2023-05-23T06:51:32.265850Z",
     "iopub.status.busy": "2023-05-23T06:51:32.265435Z",
     "iopub.status.idle": "2023-05-23T06:51:33.103102Z",
     "shell.execute_reply": "2023-05-23T06:51:33.101517Z"
    },
    "papermill": {
     "duration": 0.85719,
     "end_time": "2023-05-23T06:51:33.105454",
     "exception": false,
     "start_time": "2023-05-23T06:51:32.248264",
     "status": "completed"
    },
    "tags": []
   },
   "outputs": [
    {
     "data": {
      "image/png": "[encoded data removed]",
      "text/plain": [
       "<Figure size 1000x600 with 1 Axes>"
      ]
     },
     "metadata": {},
     "output_type": "display_data"
    }
   ],
   "source": [
    "# Extract month from the datetime column\n",
    "df_2['month'] = df_2['started_at'].dt.month_name()\n",
    "\n",
    "# Group durations by month\n",
    "grouped_data = df_2.groupby('month')['duration (min)'].apply(list)\n",
    "\n",
    "# Create a list of month labels in order\n",
    "months = df_2['month'].unique()\n",
    "\n",
    "# create plot\n",
    "plt.figure(figsize=(10, 6))\n",
    "boxplot = plt.boxplot(grouped_data, labels=months, showfliers=False, patch_artist=True)\n",
    "\n",
    "# Customize the box colors and whisker colors\n",
    "box_color = 'white'\n",
    "whisker_colors = ['red', 'green', 'blue', 'orange']\n",
    "for box, whisker, color in zip(boxplot['boxes'], boxplot['whiskers'], whisker_colors):\n",
    "    box.set(facecolor=box_color, edgecolor='black')\n",
    "    whisker.set(color=color, linewidth=1.5)\n",
    "\n",
    "# Calculate the padding and set y-axis limits\n",
    "padding = 0.05  \n",
    "lower_limit=0\n",
    "upper_limit = df_2['duration (min)'].mean()+20\n",
    "plt.ylim(lower_limit, upper_limit)\n",
    "\n",
    "# Customize the plot\n",
    "plt.title('Duration Distribution per Month')\n",
    "plt.xlabel('Month')\n",
    "plt.ylabel('Duration (minutes)')\n",
    "\n",
    "# Display the plot\n",
    "plt.tight_layout()  \n",
    "plt.show()\n"
   ]
  },
  {
   "cell_type": "markdown",
   "id": "99d4ff8f",
   "metadata": {
    "papermill": {
     "duration": 0.014549,
     "end_time": "2023-05-23T06:51:33.134981",
     "exception": false,
     "start_time": "2023-05-23T06:51:33.120432",
     "status": "completed"
    },
    "tags": []
   },
   "source": [
    "Let's explore the average duration per month for all users. Based on the box plot, we can observe that most users rarely use the bike for more than one hour. This prompts us to investigate whether our pricing might be considered expensive, discouraging longer usage, or if there are factors like bike comfort that may contribute to this behavior."
   ]
  },
  {
   "cell_type": "code",
   "execution_count": 25,
   "id": "06c45ffb",
   "metadata": {
    "execution": {
     "iopub.execute_input": "2023-05-23T06:51:33.166893Z",
     "iopub.status.busy": "2023-05-23T06:51:33.166450Z",
     "iopub.status.idle": "2023-05-23T06:51:33.566197Z",
     "shell.execute_reply": "2023-05-23T06:51:33.564842Z"
    },
    "papermill": {
     "duration": 0.418817,
     "end_time": "2023-05-23T06:51:33.568922",
     "exception": false,
     "start_time": "2023-05-23T06:51:33.150105",
     "status": "completed"
    },
    "tags": []
   },
   "outputs": [
    {
     "data": {
      "image/png": "[encoded data removed]",
      "text/plain": [
       "<Figure size 1200x800 with 1 Axes>"
      ]
     },
     "metadata": {},
     "output_type": "display_data"
    }
   ],
   "source": [
    "df_2['year'] = df_2['started_at'].dt.year\n",
    "\n",
    "# Create a mapping dictionary to map month names to their corresponding numeric values\n",
    "month_mapping = {\n",
    "    'January': 1,\n",
    "    'February': 2,\n",
    "    'March': 3,\n",
    "    'April': 4,\n",
    "}\n",
    "\n",
    "# Map the month names to their corresponding numeric values\n",
    "df_2['month_num'] = df_2['month'].map(month_mapping)\n",
    "\n",
    "average_duration = df_2.groupby(['year', 'month', 'month_num'])['duration (min)'].mean().reset_index()\n",
    "average_duration = average_duration.sort_values(['year', 'month_num'])\n",
    "\n",
    "plt.figure(figsize=(12, 8))\n",
    "plt.plot(range(len(average_duration)), average_duration['duration (min)'])\n",
    "plt.xlabel('Month')\n",
    "plt.ylabel('Average Duration (min)')\n",
    "plt.title('Average Duration of Users per Month')\n",
    "\n",
    "# Set the x-axis ticks and labels\n",
    "plt.xticks(range(len(average_duration)), average_duration['month'], rotation='vertical')\n",
    "\n",
    "plt.show()\n"
   ]
  },
  {
   "cell_type": "markdown",
   "id": "65147434",
   "metadata": {
    "papermill": {
     "duration": 0.016247,
     "end_time": "2023-05-23T06:51:33.601510",
     "exception": false,
     "start_time": "2023-05-23T06:51:33.585263",
     "status": "completed"
    },
    "tags": []
   },
   "source": [
    "The average duration for users per month shows a consistent increase over time. This insight prompts us to investigate the reasons behind users' preference for longer bike usage. Is our service improving over time, or are there emerging trends favoring bike usage over other modes of transportation like cars or buses? By analyzing this data, we can provide valuable recommendations to the team. For example, we may suggest implementing discounts for quarterly subscriptions or introducing rewards for users who rent bikes for more than 30 minutes. These strategies aim to further encourage and incentivize longer bike usage, leading to improved customer satisfaction and engagement."
   ]
  },
  {
   "cell_type": "markdown",
   "id": "b4b0e6c0",
   "metadata": {
    "papermill": {
     "duration": 0.016244,
     "end_time": "2023-05-23T06:51:33.634284",
     "exception": false,
     "start_time": "2023-05-23T06:51:33.618040",
     "status": "completed"
    },
    "tags": []
   },
   "source": [
    "# Recommendations"
   ]
  },
  {
   "cell_type": "markdown",
   "id": "f88076bd",
   "metadata": {
    "papermill": {
     "duration": 0.015913,
     "end_time": "2023-05-23T06:51:33.666325",
     "exception": false,
     "start_time": "2023-05-23T06:51:33.650412",
     "status": "completed"
    },
    "tags": []
   },
   "source": [
    "Based on the insights gained from the analysis, we can provide the following recommendations:\n",
    "\n",
    "1. Encourage user conversion: Since there is a significant difference between casual and member users, we can recommend offering incentives or discounts to casual users to encourage them to switch to member status. This can include benefits such as discounted membership fees or additional perks for becoming a member.\n",
    "\n",
    "2. Reward frequent users: To promote increased bike usage, we can implement a rewards program for users who consistently utilize the bikes for a certain duration. For example, users who exceed a specific threshold, such as a certain number of minutes or trips per month, could be eligible for rewards or discounts on future rentals.\n",
    "\n",
    "3. Quarterly discounts: To boost user engagement and retention, we can introduce special discounts or promotions for users who commit to using the service for an extended period, such as quarterly subscriptions. This encourages users to make a longer-term commitment and provides them with a cost-saving incentive.\n",
    "\n",
    "4. Promote bike combinations: Considering the significant difference between docked bikes and other types of bikes, we can recommend offering a slight discount or promotional offer for users who opt for a combination of docked bikes and other bike types. This encourages users to experience the benefits of both options and may help increase overall bike usage.\n",
    "\n",
    "These recommendations aim to improve user **satisfaction, increase user retention**, and **drive overall business growth** for Cyclistic."
   ]
  },
  {
   "cell_type": "markdown",
   "id": "9d1c2e1c",
   "metadata": {
    "papermill": {
     "duration": 0.015745,
     "end_time": "2023-05-23T06:51:33.698016",
     "exception": false,
     "start_time": "2023-05-23T06:51:33.682271",
     "status": "completed"
    },
    "tags": []
   },
   "source": []
  }
 ],
 "metadata": {
  "kernelspec": {
   "display_name": "Python 3",
   "language": "python",
   "name": "python3"
  },
  "language_info": {
   "codemirror_mode": {
    "name": "ipython",
    "version": 3
   },
   "file_extension": ".py",
   "mimetype": "text/x-python",
   "name": "python",
   "nbconvert_exporter": "python",
   "pygments_lexer": "ipython3",
   "version": "3.10.10"
  },
  "papermill": {
   "default_parameters": {},
   "duration": 25.255365,
   "end_time": "2023-05-23T06:51:35.038016",
   "environment_variables": {},
   "exception": null,
   "input_path": "__notebook__.ipynb",
   "output_path": "__notebook__.ipynb",
   "parameters": {},
   "start_time": "2023-05-23T06:51:09.782651",
   "version": "2.4.0"
  }
 },
 "nbformat": 4,
 "nbformat_minor": 5
}
